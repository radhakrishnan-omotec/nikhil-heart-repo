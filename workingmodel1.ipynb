{
  "cells": [
    {
      "cell_type": "markdown",
      "metadata": {
        "id": "view-in-github",
        "colab_type": "text"
      },
      "source": [
        "<a href=\"https://colab.research.google.com/github/radhakrishnan-omotec/nikhil-heart-repo/blob/main/workingmodel1.ipynb\" target=\"_parent\"><img src=\"https://colab.research.google.com/assets/colab-badge.svg\" alt=\"Open In Colab\"/></a>"
      ]
    },
    {
      "cell_type": "code",
      "execution_count": null,
      "metadata": {
        "id": "f8M6H1SI4kGu"
      },
      "outputs": [],
      "source": [
        "\n",
        "import pandas as pd\n",
        "from sklearn.model_selection import train_test_split\n",
        "from sklearn.preprocessing import LabelEncoder\n",
        "from sklearn.tree import DecisionTreeClassifier\n",
        "from sklearn.ensemble import RandomForestClassifier\n",
        "from sklearn.linear_model import LogisticRegression\n",
        "from sklearn.metrics import accuracy_score, precision_score, recall_score, f1_score, confusion_matrix, ConfusionMatrixDisplay\n",
        "import matplotlib.pyplot as plt"
      ]
    },
    {
      "cell_type": "code",
      "execution_count": null,
      "metadata": {
        "id": "1OahHu1W4kGx",
        "outputId": "eebec25f-a433-4240-972d-de6911720978"
      },
      "outputs": [
        {
          "name": "stdout",
          "output_type": "stream",
          "text": [
            "Defaulting to user installation because normal site-packages is not writeable\n",
            "Collecting scikit-learn\n",
            "  Downloading scikit_learn-1.5.2-cp312-cp312-win_amd64.whl.metadata (13 kB)\n",
            "Requirement already satisfied: numpy>=1.19.5 in c:\\users\\omopc58\\appdata\\roaming\\python\\python312\\site-packages (from scikit-learn) (1.26.4)\n",
            "Requirement already satisfied: scipy>=1.6.0 in c:\\users\\omopc58\\appdata\\roaming\\python\\python312\\site-packages (from scikit-learn) (1.13.0)\n",
            "Collecting joblib>=1.2.0 (from scikit-learn)\n",
            "  Downloading joblib-1.4.2-py3-none-any.whl.metadata (5.4 kB)\n",
            "Collecting threadpoolctl>=3.1.0 (from scikit-learn)\n",
            "  Downloading threadpoolctl-3.5.0-py3-none-any.whl.metadata (13 kB)\n",
            "Downloading scikit_learn-1.5.2-cp312-cp312-win_amd64.whl (11.0 MB)\n",
            "   ---------------------------------------- 0.0/11.0 MB ? eta -:--:--\n",
            "   ---------------------------------------- 0.1/11.0 MB 2.4 MB/s eta 0:00:05\n",
            "   - -------------------------------------- 0.5/11.0 MB 6.0 MB/s eta 0:00:02\n",
            "   ---- ----------------------------------- 1.2/11.0 MB 8.5 MB/s eta 0:00:02\n",
            "   ------ --------------------------------- 1.7/11.0 MB 9.2 MB/s eta 0:00:02\n",
            "   -------- ------------------------------- 2.3/11.0 MB 9.6 MB/s eta 0:00:01\n",
            "   --------- ------------------------------ 2.7/11.0 MB 9.9 MB/s eta 0:00:01\n",
            "   ----------- ---------------------------- 3.3/11.0 MB 9.9 MB/s eta 0:00:01\n",
            "   ------------- -------------------------- 3.8/11.0 MB 10.4 MB/s eta 0:00:01\n",
            "   --------------- ------------------------ 4.3/11.0 MB 10.1 MB/s eta 0:00:01\n",
            "   ----------------- ---------------------- 4.8/11.0 MB 10.6 MB/s eta 0:00:01\n",
            "   ------------------- -------------------- 5.3/11.0 MB 10.5 MB/s eta 0:00:01\n",
            "   --------------------- ------------------ 5.8/11.0 MB 10.5 MB/s eta 0:00:01\n",
            "   ---------------------- ----------------- 6.2/11.0 MB 10.5 MB/s eta 0:00:01\n",
            "   ------------------------ --------------- 6.8/11.0 MB 10.6 MB/s eta 0:00:01\n",
            "   -------------------------- ------------- 7.3/11.0 MB 10.6 MB/s eta 0:00:01\n",
            "   --------------------------- ------------ 7.7/11.0 MB 10.4 MB/s eta 0:00:01\n",
            "   ----------------------------- ---------- 8.2/11.0 MB 10.5 MB/s eta 0:00:01\n",
            "   ------------------------------- -------- 8.7/11.0 MB 10.5 MB/s eta 0:00:01\n",
            "   --------------------------------- ------ 9.2/11.0 MB 10.5 MB/s eta 0:00:01\n",
            "   ----------------------------------- ---- 9.7/11.0 MB 10.5 MB/s eta 0:00:01\n",
            "   ------------------------------------- -- 10.2/11.0 MB 10.5 MB/s eta 0:00:01\n",
            "   -------------------------------------- - 10.7/11.0 MB 10.9 MB/s eta 0:00:01\n",
            "   ---------------------------------------  11.0/11.0 MB 11.1 MB/s eta 0:00:01\n",
            "   ---------------------------------------- 11.0/11.0 MB 10.7 MB/s eta 0:00:00\n",
            "Downloading joblib-1.4.2-py3-none-any.whl (301 kB)\n",
            "   ---------------------------------------- 0.0/301.8 kB ? eta -:--:--\n",
            "   ---------------------------------------- 301.8/301.8 kB 9.4 MB/s eta 0:00:00\n",
            "Downloading threadpoolctl-3.5.0-py3-none-any.whl (18 kB)\n",
            "Installing collected packages: threadpoolctl, joblib, scikit-learn\n",
            "Successfully installed joblib-1.4.2 scikit-learn-1.5.2 threadpoolctl-3.5.0\n",
            "Note: you may need to restart the kernel to use updated packages.\n"
          ]
        },
        {
          "name": "stderr",
          "output_type": "stream",
          "text": [
            "\n",
            "[notice] A new release of pip is available: 24.0 -> 24.2\n",
            "[notice] To update, run: python.exe -m pip install --upgrade pip\n"
          ]
        }
      ],
      "source": [
        "!pip install scikit-learn"
      ]
    },
    {
      "cell_type": "code",
      "execution_count": null,
      "metadata": {
        "id": "Xdzyy4QR4kGz"
      },
      "outputs": [],
      "source": [
        "df= pd.read_csv(r\"C:\\Users\\OMOLP094\\Desktop\\Bipolar_Disorder_Phase_Classification\\Datasets\\heart_rate_dataset_bipolar_disorder_patients.csv\")"
      ]
    },
    {
      "cell_type": "code",
      "execution_count": null,
      "metadata": {
        "id": "2ocdGDtF4kGz"
      },
      "outputs": [],
      "source": [
        "cnn_model = keras.load(r\"C:\\Users\\OMOLP094\\Desktop\\Karmick_Surana_Emotion_Classification_Video_Audio\\karmick_all_notebooks\\face_landmarker (1).task\")\n",
        "\n",
        "RF_classfier_heart_rate = keras.load(r\"C:\\Users\\OMOLP094\\Desktop\\Karmick_Surana_Emotion_Classification_Video_Audio\\karmick_all_notebooks\\face_landmarker (1).task\")"
      ]
    },
    {
      "cell_type": "code",
      "execution_count": null,
      "metadata": {
        "id": "6jDYT8iu4kG0",
        "outputId": "7b072cd0-52ba-4c90-efdf-f4007a229ba1"
      },
      "outputs": [
        {
          "data": {
            "text/html": [
              "<div>\n",
              "<style scoped>\n",
              "    .dataframe tbody tr th:only-of-type {\n",
              "        vertical-align: middle;\n",
              "    }\n",
              "\n",
              "    .dataframe tbody tr th {\n",
              "        vertical-align: top;\n",
              "    }\n",
              "\n",
              "    .dataframe thead th {\n",
              "        text-align: right;\n",
              "    }\n",
              "</style>\n",
              "<table border=\"1\" class=\"dataframe\">\n",
              "  <thead>\n",
              "    <tr style=\"text-align: right;\">\n",
              "      <th></th>\n",
              "      <th>Age</th>\n",
              "      <th>Gender</th>\n",
              "      <th>Heart Rate</th>\n",
              "      <th>Class label</th>\n",
              "    </tr>\n",
              "  </thead>\n",
              "  <tbody>\n",
              "    <tr>\n",
              "      <th>0</th>\n",
              "      <td>40</td>\n",
              "      <td>Male</td>\n",
              "      <td>82</td>\n",
              "      <td>Depression</td>\n",
              "    </tr>\n",
              "    <tr>\n",
              "      <th>1</th>\n",
              "      <td>38</td>\n",
              "      <td>Male</td>\n",
              "      <td>86</td>\n",
              "      <td>Depression</td>\n",
              "    </tr>\n",
              "    <tr>\n",
              "      <th>2</th>\n",
              "      <td>35</td>\n",
              "      <td>Male</td>\n",
              "      <td>82</td>\n",
              "      <td>Depression</td>\n",
              "    </tr>\n",
              "    <tr>\n",
              "      <th>3</th>\n",
              "      <td>58</td>\n",
              "      <td>Male</td>\n",
              "      <td>67</td>\n",
              "      <td>Depression</td>\n",
              "    </tr>\n",
              "    <tr>\n",
              "      <th>4</th>\n",
              "      <td>45</td>\n",
              "      <td>Male</td>\n",
              "      <td>76</td>\n",
              "      <td>Depression</td>\n",
              "    </tr>\n",
              "    <tr>\n",
              "      <th>...</th>\n",
              "      <td>...</td>\n",
              "      <td>...</td>\n",
              "      <td>...</td>\n",
              "      <td>...</td>\n",
              "    </tr>\n",
              "    <tr>\n",
              "      <th>495</th>\n",
              "      <td>45</td>\n",
              "      <td>Male</td>\n",
              "      <td>92</td>\n",
              "      <td>Mixed</td>\n",
              "    </tr>\n",
              "    <tr>\n",
              "      <th>496</th>\n",
              "      <td>55</td>\n",
              "      <td>Male</td>\n",
              "      <td>92</td>\n",
              "      <td>Mixed</td>\n",
              "    </tr>\n",
              "    <tr>\n",
              "      <th>497</th>\n",
              "      <td>46</td>\n",
              "      <td>Male</td>\n",
              "      <td>93</td>\n",
              "      <td>Mixed</td>\n",
              "    </tr>\n",
              "    <tr>\n",
              "      <th>498</th>\n",
              "      <td>45</td>\n",
              "      <td>Female</td>\n",
              "      <td>82</td>\n",
              "      <td>Mixed</td>\n",
              "    </tr>\n",
              "    <tr>\n",
              "      <th>499</th>\n",
              "      <td>21</td>\n",
              "      <td>Male</td>\n",
              "      <td>112</td>\n",
              "      <td>Mixed</td>\n",
              "    </tr>\n",
              "  </tbody>\n",
              "</table>\n",
              "<p>500 rows × 4 columns</p>\n",
              "</div>"
            ],
            "text/plain": [
              "     Age  Gender  Heart Rate Class label\n",
              "0     40    Male          82  Depression\n",
              "1     38    Male          86  Depression\n",
              "2     35    Male          82  Depression\n",
              "3     58    Male          67  Depression\n",
              "4     45    Male          76  Depression\n",
              "..   ...     ...         ...         ...\n",
              "495   45    Male          92      Mixed \n",
              "496   55    Male          92      Mixed \n",
              "497   46    Male          93      Mixed \n",
              "498   45  Female          82      Mixed \n",
              "499   21    Male         112      Mixed \n",
              "\n",
              "[500 rows x 4 columns]"
            ]
          },
          "execution_count": 3,
          "metadata": {},
          "output_type": "execute_result"
        }
      ],
      "source": [
        "df"
      ]
    },
    {
      "cell_type": "code",
      "execution_count": null,
      "metadata": {
        "id": "kv_AJFMK4kG1"
      },
      "outputs": [],
      "source": [
        "df = df.rename(columns={\"Class label\": \"target\"})\n",
        "# Columns to use as features\n",
        "cols = ['Age', 'Gender', 'Heart Rate']\n",
        "\n",
        "# Features and target variable\n",
        "X = df[cols].copy() # Data\n",
        "y = df['target']"
      ]
    },
    {
      "cell_type": "code",
      "execution_count": null,
      "metadata": {
        "id": "gDJ8E_Jv4kG1",
        "outputId": "77df9851-e232-4b9a-e573-552b81e54d69"
      },
      "outputs": [
        {
          "data": {
            "text/html": [
              "<div>\n",
              "<style scoped>\n",
              "    .dataframe tbody tr th:only-of-type {\n",
              "        vertical-align: middle;\n",
              "    }\n",
              "\n",
              "    .dataframe tbody tr th {\n",
              "        vertical-align: top;\n",
              "    }\n",
              "\n",
              "    .dataframe thead th {\n",
              "        text-align: right;\n",
              "    }\n",
              "</style>\n",
              "<table border=\"1\" class=\"dataframe\">\n",
              "  <thead>\n",
              "    <tr style=\"text-align: right;\">\n",
              "      <th></th>\n",
              "      <th>Age</th>\n",
              "      <th>Gender</th>\n",
              "      <th>Heart Rate</th>\n",
              "    </tr>\n",
              "  </thead>\n",
              "  <tbody>\n",
              "    <tr>\n",
              "      <th>0</th>\n",
              "      <td>40</td>\n",
              "      <td>Male</td>\n",
              "      <td>82</td>\n",
              "    </tr>\n",
              "    <tr>\n",
              "      <th>1</th>\n",
              "      <td>38</td>\n",
              "      <td>Male</td>\n",
              "      <td>86</td>\n",
              "    </tr>\n",
              "    <tr>\n",
              "      <th>2</th>\n",
              "      <td>35</td>\n",
              "      <td>Male</td>\n",
              "      <td>82</td>\n",
              "    </tr>\n",
              "    <tr>\n",
              "      <th>3</th>\n",
              "      <td>58</td>\n",
              "      <td>Male</td>\n",
              "      <td>67</td>\n",
              "    </tr>\n",
              "    <tr>\n",
              "      <th>4</th>\n",
              "      <td>45</td>\n",
              "      <td>Male</td>\n",
              "      <td>76</td>\n",
              "    </tr>\n",
              "    <tr>\n",
              "      <th>...</th>\n",
              "      <td>...</td>\n",
              "      <td>...</td>\n",
              "      <td>...</td>\n",
              "    </tr>\n",
              "    <tr>\n",
              "      <th>495</th>\n",
              "      <td>45</td>\n",
              "      <td>Male</td>\n",
              "      <td>92</td>\n",
              "    </tr>\n",
              "    <tr>\n",
              "      <th>496</th>\n",
              "      <td>55</td>\n",
              "      <td>Male</td>\n",
              "      <td>92</td>\n",
              "    </tr>\n",
              "    <tr>\n",
              "      <th>497</th>\n",
              "      <td>46</td>\n",
              "      <td>Male</td>\n",
              "      <td>93</td>\n",
              "    </tr>\n",
              "    <tr>\n",
              "      <th>498</th>\n",
              "      <td>45</td>\n",
              "      <td>Female</td>\n",
              "      <td>82</td>\n",
              "    </tr>\n",
              "    <tr>\n",
              "      <th>499</th>\n",
              "      <td>21</td>\n",
              "      <td>Male</td>\n",
              "      <td>112</td>\n",
              "    </tr>\n",
              "  </tbody>\n",
              "</table>\n",
              "<p>500 rows × 3 columns</p>\n",
              "</div>"
            ],
            "text/plain": [
              "     Age  Gender  Heart Rate\n",
              "0     40    Male          82\n",
              "1     38    Male          86\n",
              "2     35    Male          82\n",
              "3     58    Male          67\n",
              "4     45    Male          76\n",
              "..   ...     ...         ...\n",
              "495   45    Male          92\n",
              "496   55    Male          92\n",
              "497   46    Male          93\n",
              "498   45  Female          82\n",
              "499   21    Male         112\n",
              "\n",
              "[500 rows x 3 columns]"
            ]
          },
          "execution_count": 5,
          "metadata": {},
          "output_type": "execute_result"
        }
      ],
      "source": [
        "X"
      ]
    },
    {
      "cell_type": "code",
      "execution_count": null,
      "metadata": {
        "id": "JUee1PLT4kG2"
      },
      "outputs": [],
      "source": [
        "# Encode categorical features (Gender and target)\n",
        "label_encoder = LabelEncoder()\n",
        "X['Gender'] = label_encoder.fit_transform(X['Gender'])\n",
        "y = label_encoder.fit_transform(y)  # Encode the target as well"
      ]
    },
    {
      "cell_type": "code",
      "execution_count": null,
      "metadata": {
        "id": "vGhoBG4G4kG3",
        "outputId": "a16ceb0a-e30c-447c-f6f5-e01761bb67fc"
      },
      "outputs": [
        {
          "data": {
            "text/html": [
              "<div>\n",
              "<style scoped>\n",
              "    .dataframe tbody tr th:only-of-type {\n",
              "        vertical-align: middle;\n",
              "    }\n",
              "\n",
              "    .dataframe tbody tr th {\n",
              "        vertical-align: top;\n",
              "    }\n",
              "\n",
              "    .dataframe thead th {\n",
              "        text-align: right;\n",
              "    }\n",
              "</style>\n",
              "<table border=\"1\" class=\"dataframe\">\n",
              "  <thead>\n",
              "    <tr style=\"text-align: right;\">\n",
              "      <th></th>\n",
              "      <th>Age</th>\n",
              "      <th>Gender</th>\n",
              "      <th>Heart Rate</th>\n",
              "    </tr>\n",
              "  </thead>\n",
              "  <tbody>\n",
              "    <tr>\n",
              "      <th>0</th>\n",
              "      <td>40</td>\n",
              "      <td>1</td>\n",
              "      <td>82</td>\n",
              "    </tr>\n",
              "    <tr>\n",
              "      <th>1</th>\n",
              "      <td>38</td>\n",
              "      <td>1</td>\n",
              "      <td>86</td>\n",
              "    </tr>\n",
              "    <tr>\n",
              "      <th>2</th>\n",
              "      <td>35</td>\n",
              "      <td>1</td>\n",
              "      <td>82</td>\n",
              "    </tr>\n",
              "    <tr>\n",
              "      <th>3</th>\n",
              "      <td>58</td>\n",
              "      <td>1</td>\n",
              "      <td>67</td>\n",
              "    </tr>\n",
              "    <tr>\n",
              "      <th>4</th>\n",
              "      <td>45</td>\n",
              "      <td>1</td>\n",
              "      <td>76</td>\n",
              "    </tr>\n",
              "    <tr>\n",
              "      <th>...</th>\n",
              "      <td>...</td>\n",
              "      <td>...</td>\n",
              "      <td>...</td>\n",
              "    </tr>\n",
              "    <tr>\n",
              "      <th>495</th>\n",
              "      <td>45</td>\n",
              "      <td>1</td>\n",
              "      <td>92</td>\n",
              "    </tr>\n",
              "    <tr>\n",
              "      <th>496</th>\n",
              "      <td>55</td>\n",
              "      <td>1</td>\n",
              "      <td>92</td>\n",
              "    </tr>\n",
              "    <tr>\n",
              "      <th>497</th>\n",
              "      <td>46</td>\n",
              "      <td>1</td>\n",
              "      <td>93</td>\n",
              "    </tr>\n",
              "    <tr>\n",
              "      <th>498</th>\n",
              "      <td>45</td>\n",
              "      <td>0</td>\n",
              "      <td>82</td>\n",
              "    </tr>\n",
              "    <tr>\n",
              "      <th>499</th>\n",
              "      <td>21</td>\n",
              "      <td>1</td>\n",
              "      <td>112</td>\n",
              "    </tr>\n",
              "  </tbody>\n",
              "</table>\n",
              "<p>500 rows × 3 columns</p>\n",
              "</div>"
            ],
            "text/plain": [
              "     Age  Gender  Heart Rate\n",
              "0     40       1          82\n",
              "1     38       1          86\n",
              "2     35       1          82\n",
              "3     58       1          67\n",
              "4     45       1          76\n",
              "..   ...     ...         ...\n",
              "495   45       1          92\n",
              "496   55       1          92\n",
              "497   46       1          93\n",
              "498   45       0          82\n",
              "499   21       1         112\n",
              "\n",
              "[500 rows x 3 columns]"
            ]
          },
          "execution_count": 7,
          "metadata": {},
          "output_type": "execute_result"
        }
      ],
      "source": [
        "X"
      ]
    },
    {
      "cell_type": "code",
      "execution_count": null,
      "metadata": {
        "id": "_YbJ9i144kG4",
        "outputId": "90a77560-4606-402b-d7cf-9a1b205127b2"
      },
      "outputs": [
        {
          "data": {
            "text/plain": [
              "(500, 3)"
            ]
          },
          "execution_count": 8,
          "metadata": {},
          "output_type": "execute_result"
        }
      ],
      "source": [
        "X.shape"
      ]
    },
    {
      "cell_type": "code",
      "execution_count": null,
      "metadata": {
        "id": "FLB53pIv4kG5"
      },
      "outputs": [],
      "source": [
        "X_train = X[:300]"
      ]
    },
    {
      "cell_type": "code",
      "execution_count": null,
      "metadata": {
        "id": "vsN71abG4kG6"
      },
      "outputs": [],
      "source": [
        "X_test = X[300:]"
      ]
    },
    {
      "cell_type": "code",
      "execution_count": null,
      "metadata": {
        "id": "DLWyWK_N4kG8",
        "outputId": "50a48850-4dcf-4c7a-b67d-bb9af9d5dba6"
      },
      "outputs": [
        {
          "data": {
            "text/html": [
              "<div>\n",
              "<style scoped>\n",
              "    .dataframe tbody tr th:only-of-type {\n",
              "        vertical-align: middle;\n",
              "    }\n",
              "\n",
              "    .dataframe tbody tr th {\n",
              "        vertical-align: top;\n",
              "    }\n",
              "\n",
              "    .dataframe thead th {\n",
              "        text-align: right;\n",
              "    }\n",
              "</style>\n",
              "<table border=\"1\" class=\"dataframe\">\n",
              "  <thead>\n",
              "    <tr style=\"text-align: right;\">\n",
              "      <th></th>\n",
              "      <th>Age</th>\n",
              "      <th>Gender</th>\n",
              "      <th>Heart Rate</th>\n",
              "    </tr>\n",
              "  </thead>\n",
              "  <tbody>\n",
              "    <tr>\n",
              "      <th>0</th>\n",
              "      <td>40</td>\n",
              "      <td>1</td>\n",
              "      <td>82</td>\n",
              "    </tr>\n",
              "    <tr>\n",
              "      <th>1</th>\n",
              "      <td>38</td>\n",
              "      <td>1</td>\n",
              "      <td>86</td>\n",
              "    </tr>\n",
              "    <tr>\n",
              "      <th>2</th>\n",
              "      <td>35</td>\n",
              "      <td>1</td>\n",
              "      <td>82</td>\n",
              "    </tr>\n",
              "    <tr>\n",
              "      <th>3</th>\n",
              "      <td>58</td>\n",
              "      <td>1</td>\n",
              "      <td>67</td>\n",
              "    </tr>\n",
              "    <tr>\n",
              "      <th>4</th>\n",
              "      <td>45</td>\n",
              "      <td>1</td>\n",
              "      <td>76</td>\n",
              "    </tr>\n",
              "    <tr>\n",
              "      <th>...</th>\n",
              "      <td>...</td>\n",
              "      <td>...</td>\n",
              "      <td>...</td>\n",
              "    </tr>\n",
              "    <tr>\n",
              "      <th>295</th>\n",
              "      <td>27</td>\n",
              "      <td>0</td>\n",
              "      <td>84</td>\n",
              "    </tr>\n",
              "    <tr>\n",
              "      <th>296</th>\n",
              "      <td>54</td>\n",
              "      <td>1</td>\n",
              "      <td>82</td>\n",
              "    </tr>\n",
              "    <tr>\n",
              "      <th>297</th>\n",
              "      <td>30</td>\n",
              "      <td>0</td>\n",
              "      <td>90</td>\n",
              "    </tr>\n",
              "    <tr>\n",
              "      <th>298</th>\n",
              "      <td>32</td>\n",
              "      <td>1</td>\n",
              "      <td>85</td>\n",
              "    </tr>\n",
              "    <tr>\n",
              "      <th>299</th>\n",
              "      <td>46</td>\n",
              "      <td>0</td>\n",
              "      <td>90</td>\n",
              "    </tr>\n",
              "  </tbody>\n",
              "</table>\n",
              "<p>300 rows × 3 columns</p>\n",
              "</div>"
            ],
            "text/plain": [
              "     Age  Gender  Heart Rate\n",
              "0     40       1          82\n",
              "1     38       1          86\n",
              "2     35       1          82\n",
              "3     58       1          67\n",
              "4     45       1          76\n",
              "..   ...     ...         ...\n",
              "295   27       0          84\n",
              "296   54       1          82\n",
              "297   30       0          90\n",
              "298   32       1          85\n",
              "299   46       0          90\n",
              "\n",
              "[300 rows x 3 columns]"
            ]
          },
          "execution_count": 11,
          "metadata": {},
          "output_type": "execute_result"
        }
      ],
      "source": [
        "X_train"
      ]
    },
    {
      "cell_type": "code",
      "execution_count": null,
      "metadata": {
        "id": "asVmW6LQ4kG8"
      },
      "outputs": [],
      "source": [
        "y_train = y[:300]"
      ]
    },
    {
      "cell_type": "code",
      "execution_count": null,
      "metadata": {
        "id": "yM4mCJCn4kG9",
        "outputId": "b4cec3a7-948f-400b-b6e8-71909580fe0d"
      },
      "outputs": [
        {
          "data": {
            "text/plain": [
              "(300,)"
            ]
          },
          "execution_count": 15,
          "metadata": {},
          "output_type": "execute_result"
        }
      ],
      "source": [
        "y_train.shape"
      ]
    },
    {
      "cell_type": "code",
      "execution_count": null,
      "metadata": {
        "id": "t7yr5h9q4kG9",
        "outputId": "b8d10a96-340b-457a-9dff-cd11956a56bd"
      },
      "outputs": [
        {
          "data": {
            "text/html": [
              "<div>\n",
              "<style scoped>\n",
              "    .dataframe tbody tr th:only-of-type {\n",
              "        vertical-align: middle;\n",
              "    }\n",
              "\n",
              "    .dataframe tbody tr th {\n",
              "        vertical-align: top;\n",
              "    }\n",
              "\n",
              "    .dataframe thead th {\n",
              "        text-align: right;\n",
              "    }\n",
              "</style>\n",
              "<table border=\"1\" class=\"dataframe\">\n",
              "  <thead>\n",
              "    <tr style=\"text-align: right;\">\n",
              "      <th></th>\n",
              "      <th>Age</th>\n",
              "      <th>Gender</th>\n",
              "      <th>Heart Rate</th>\n",
              "    </tr>\n",
              "  </thead>\n",
              "  <tbody>\n",
              "    <tr>\n",
              "      <th>300</th>\n",
              "      <td>33</td>\n",
              "      <td>1</td>\n",
              "      <td>82</td>\n",
              "    </tr>\n",
              "    <tr>\n",
              "      <th>301</th>\n",
              "      <td>37</td>\n",
              "      <td>0</td>\n",
              "      <td>88</td>\n",
              "    </tr>\n",
              "    <tr>\n",
              "      <th>302</th>\n",
              "      <td>45</td>\n",
              "      <td>1</td>\n",
              "      <td>79</td>\n",
              "    </tr>\n",
              "    <tr>\n",
              "      <th>303</th>\n",
              "      <td>41</td>\n",
              "      <td>0</td>\n",
              "      <td>83</td>\n",
              "    </tr>\n",
              "    <tr>\n",
              "      <th>304</th>\n",
              "      <td>29</td>\n",
              "      <td>1</td>\n",
              "      <td>84</td>\n",
              "    </tr>\n",
              "    <tr>\n",
              "      <th>...</th>\n",
              "      <td>...</td>\n",
              "      <td>...</td>\n",
              "      <td>...</td>\n",
              "    </tr>\n",
              "    <tr>\n",
              "      <th>495</th>\n",
              "      <td>45</td>\n",
              "      <td>1</td>\n",
              "      <td>92</td>\n",
              "    </tr>\n",
              "    <tr>\n",
              "      <th>496</th>\n",
              "      <td>55</td>\n",
              "      <td>1</td>\n",
              "      <td>92</td>\n",
              "    </tr>\n",
              "    <tr>\n",
              "      <th>497</th>\n",
              "      <td>46</td>\n",
              "      <td>1</td>\n",
              "      <td>93</td>\n",
              "    </tr>\n",
              "    <tr>\n",
              "      <th>498</th>\n",
              "      <td>45</td>\n",
              "      <td>0</td>\n",
              "      <td>82</td>\n",
              "    </tr>\n",
              "    <tr>\n",
              "      <th>499</th>\n",
              "      <td>21</td>\n",
              "      <td>1</td>\n",
              "      <td>112</td>\n",
              "    </tr>\n",
              "  </tbody>\n",
              "</table>\n",
              "<p>200 rows × 3 columns</p>\n",
              "</div>"
            ],
            "text/plain": [
              "     Age  Gender  Heart Rate\n",
              "300   33       1          82\n",
              "301   37       0          88\n",
              "302   45       1          79\n",
              "303   41       0          83\n",
              "304   29       1          84\n",
              "..   ...     ...         ...\n",
              "495   45       1          92\n",
              "496   55       1          92\n",
              "497   46       1          93\n",
              "498   45       0          82\n",
              "499   21       1         112\n",
              "\n",
              "[200 rows x 3 columns]"
            ]
          },
          "execution_count": 12,
          "metadata": {},
          "output_type": "execute_result"
        }
      ],
      "source": [
        "X_test"
      ]
    },
    {
      "cell_type": "code",
      "execution_count": null,
      "metadata": {
        "id": "MLY6hS9Q4kG-"
      },
      "outputs": [],
      "source": [
        "# Split the data into training and testing sets\n",
        "X_train, X_test, y_train, y_test = train_test_split(X, y, test_size=0.3, random_state=42)\n",
        "\n",
        "# Dictionary to store models and their names\n",
        "models = {\n",
        "    'Decision Tree': DecisionTreeClassifier(),\n",
        "    'Random Forest': RandomForestClassifier(),\n",
        "    'Logistic Regression': LogisticRegression(max_iter=1000)\n",
        "}"
      ]
    },
    {
      "cell_type": "code",
      "execution_count": null,
      "metadata": {
        "id": "6Lu3hv_I4kG-",
        "outputId": "e40ea929-16e7-4ee5-caa2-951605a25aeb"
      },
      "outputs": [
        {
          "data": {
            "text/plain": [
              "(350, 3)"
            ]
          },
          "execution_count": 17,
          "metadata": {},
          "output_type": "execute_result"
        }
      ],
      "source": [
        "X_train.shape"
      ]
    },
    {
      "cell_type": "code",
      "execution_count": null,
      "metadata": {
        "id": "OUOW8ipE4kG_",
        "outputId": "1d925f51-06db-4620-cab9-a5d461b00c94"
      },
      "outputs": [
        {
          "data": {
            "text/plain": [
              "(150, 3)"
            ]
          },
          "execution_count": 18,
          "metadata": {},
          "output_type": "execute_result"
        }
      ],
      "source": [
        "X_test.shape"
      ]
    },
    {
      "cell_type": "code",
      "execution_count": null,
      "metadata": {
        "id": "_J4HIDQH4kG_",
        "outputId": "1d442a6d-0657-49b1-83ad-8694330587a1"
      },
      "outputs": [
        {
          "name": "stdout",
          "output_type": "stream",
          "text": [
            "\n",
            "Decision Tree Results:\n",
            "Accuracy: 0.40\n",
            "Precision: 0.41\n",
            "Recall: 0.40\n",
            "F1 Score: 0.39\n"
          ]
        },
        {
          "data": {
            "image/png": "[encoded data removed]",
            "text/plain": [
              "<Figure size 640x480 with 2 Axes>"
            ]
          },
          "metadata": {},
          "output_type": "display_data"
        },
        {
          "name": "stdout",
          "output_type": "stream",
          "text": [
            "\n",
            "Random Forest Results:\n",
            "Accuracy: 0.41\n",
            "Precision: 0.41\n",
            "Recall: 0.41\n",
            "F1 Score: 0.40\n"
          ]
        },
        {
          "data": {
            "image/png": "[encoded data removed]",
            "text/plain": [
              "<Figure size 640x480 with 2 Axes>"
            ]
          },
          "metadata": {},
          "output_type": "display_data"
        },
        {
          "name": "stdout",
          "output_type": "stream",
          "text": [
            "\n",
            "Logistic Regression Results:\n",
            "Accuracy: 0.40\n",
            "Precision: 0.44\n",
            "Recall: 0.40\n",
            "F1 Score: 0.39\n"
          ]
        },
        {
          "data": {
            "image/png": "[encoded data removed]",
            "text/plain": [
              "<Figure size 640x480 with 2 Axes>"
            ]
          },
          "metadata": {},
          "output_type": "display_data"
        }
      ],
      "source": [
        "# Evaluate each model\n",
        "for model_name, model in models.items():\n",
        "    # Train the model\n",
        "    model.fit(X_train, y_train)\n",
        "\n",
        "    # Make predictions\n",
        "    y_pred = model.predict(X_test)\n",
        "\n",
        "    # print(y_pred)\n",
        "\n",
        "    # Evaluate metrics\n",
        "    accuracy = accuracy_score(y_test, y_pred)\n",
        "    precision = precision_score(y_test, y_pred, average='weighted')\n",
        "    recall = recall_score(y_test, y_pred, average='weighted')\n",
        "    f1 = f1_score(y_test, y_pred, average='weighted')\n",
        "\n",
        "    # Print the evaluation results\n",
        "    print(f'\\n{model_name} Results:')\n",
        "    print(f'Accuracy: {accuracy:.2f}')\n",
        "    print(f'Precision: {precision:.2f}')\n",
        "    print(f'Recall: {recall:.2f}')\n",
        "    print(f'F1 Score: {f1:.2f}')\n",
        "\n",
        "    # Confusion Matrix\n",
        "    cm = confusion_matrix(y_test, y_pred)\n",
        "    disp = ConfusionMatrixDisplay(confusion_matrix=cm, display_labels=label_encoder.classes_)\n",
        "    disp.plot(cmap=plt.cm.Blues, values_format='d')\n",
        "    plt.title(f'Confusion Matrix for {model_name}')\n",
        "    plt.show()"
      ]
    },
    {
      "cell_type": "code",
      "execution_count": null,
      "metadata": {
        "id": "lVYTirUV4kHA"
      },
      "outputs": [],
      "source": [
        "import pandas as pd\n",
        "from sklearn.model_selection import train_test_split, GridSearchCV\n",
        "from sklearn.preprocessing import LabelEncoder\n",
        "from sklearn.tree import DecisionTreeClassifier\n",
        "from sklearn.metrics import accuracy_score, precision_score, recall_score, f1_score, confusion_matrix, ConfusionMatrixDisplay\n",
        "import matplotlib.pyplot as plt"
      ]
    },
    {
      "cell_type": "code",
      "execution_count": null,
      "metadata": {
        "id": "CgIj2B2-4kHB"
      },
      "outputs": [],
      "source": [
        "df= pd.read_csv(r\"C:\\Users\\OMOLP094\\Desktop\\Bipolar_Disorder_Phase_Classification\\Datasets\\heart_rate_dataset_bipolar_disorder_patients.csv\")"
      ]
    },
    {
      "cell_type": "code",
      "execution_count": null,
      "metadata": {
        "id": "PdcATzP74kHB"
      },
      "outputs": [],
      "source": [
        "df = df.rename(columns={\"Class label\": \"target\"})\n",
        "# Columns to use as features\n",
        "cols = ['Age', 'Gender', 'Heart Rate']\n",
        "\n",
        "# Features and target variable\n",
        "X = df[cols].copy()\n",
        "y = df['target']"
      ]
    },
    {
      "cell_type": "code",
      "execution_count": null,
      "metadata": {
        "id": "4W9OO8Qh4kHC"
      },
      "outputs": [],
      "source": [
        "# Columns to use as features\n",
        "cols = ['Age', 'Gender', 'Heart Rate']\n",
        "\n",
        "# Features and target variable\n",
        "X = df[cols].copy()\n",
        "y = df['target']"
      ]
    },
    {
      "cell_type": "code",
      "execution_count": null,
      "metadata": {
        "id": "Y-l01c4A4kHC"
      },
      "outputs": [],
      "source": [
        "\n",
        "# Encode categorical features (Gender and target)\n",
        "label_encoder = LabelEncoder()\n",
        "X['Gender'] = label_encoder.fit_transform(X['Gender'])  # Male = 1, Female = 0\n",
        "y = label_encoder.fit_transform(y)  # Encode the target as well\n"
      ]
    },
    {
      "cell_type": "code",
      "execution_count": null,
      "metadata": {
        "id": "zpB4E_qA4kHC"
      },
      "outputs": [],
      "source": [
        "# Split the data into training and testing sets\n",
        "X_train, X_test, y_train, y_test = train_test_split(X, y, test_size=0.3, random_state=42)\n"
      ]
    },
    {
      "cell_type": "code",
      "execution_count": null,
      "metadata": {
        "id": "SZq6Nu6J4kHD"
      },
      "outputs": [],
      "source": [
        "# Define the Decision Tree Classifier\n",
        "decision_tree = DecisionTreeClassifier(random_state=42)\n"
      ]
    },
    {
      "cell_type": "code",
      "execution_count": null,
      "metadata": {
        "id": "sybOn21o4kHD"
      },
      "outputs": [],
      "source": [
        "# Define the parameter grid\n",
        "param_grid = {\n",
        "    'criterion': ['gini', 'entropy'],  # Criterion for split quality\n",
        "    'max_depth': [3, 5, 10, None],     # Max depth of the tree\n",
        "    'min_samples_split': [2, 10, 20],  # Minimum number of samples required to split a node\n",
        "    'min_samples_leaf': [1, 5, 10],    # Minimum number of samples required to be at a leaf node\n",
        "    'max_features': [None, 'sqrt', 'log2']  # Number of features to consider at each split\n",
        "}"
      ]
    },
    {
      "cell_type": "code",
      "execution_count": null,
      "metadata": {
        "id": "NzSX5NQi4kHE"
      },
      "outputs": [],
      "source": [
        "# Initialize GridSearchCV\n",
        "grid_search = GridSearchCV(estimator=decision_tree, param_grid=param_grid,\n",
        "                           scoring='accuracy', cv=5, n_jobs=-1, verbose=1)\n"
      ]
    },
    {
      "cell_type": "code",
      "execution_count": null,
      "metadata": {
        "id": "I28lgaqr4kHE",
        "outputId": "ba4e9868-8eff-406a-b305-5b831a571bc6"
      },
      "outputs": [
        {
          "name": "stdout",
          "output_type": "stream",
          "text": [
            "Fitting 5 folds for each of 216 candidates, totalling 1080 fits\n"
          ]
        },
        {
          "data": {
            "text/html": [
              "<style>#sk-container-id-1 {color: black;background-color: white;}#sk-container-id-1 pre{padding: 0;}#sk-container-id-1 div.sk-toggleable {background-color: white;}#sk-container-id-1 label.sk-toggleable__label {cursor: pointer;display: block;width: 100%;margin-bottom: 0;padding: 0.3em;box-sizing: border-box;text-align: center;}#sk-container-id-1 label.sk-toggleable__label-arrow:before {content: \"▸\";float: left;margin-right: 0.25em;color: #696969;}#sk-container-id-1 label.sk-toggleable__label-arrow:hover:before {color: black;}#sk-container-id-1 div.sk-estimator:hover label.sk-toggleable__label-arrow:before {color: black;}#sk-container-id-1 div.sk-toggleable__content {max-height: 0;max-width: 0;overflow: hidden;text-align: left;background-color: #f0f8ff;}#sk-container-id-1 div.sk-toggleable__content pre {margin: 0.2em;color: black;border-radius: 0.25em;background-color: #f0f8ff;}#sk-container-id-1 input.sk-toggleable__control:checked~div.sk-toggleable__content {max-height: 200px;max-width: 100%;overflow: auto;}#sk-container-id-1 input.sk-toggleable__control:checked~label.sk-toggleable__label-arrow:before {content: \"▾\";}#sk-container-id-1 div.sk-estimator input.sk-toggleable__control:checked~label.sk-toggleable__label {background-color: #d4ebff;}#sk-container-id-1 div.sk-label input.sk-toggleable__control:checked~label.sk-toggleable__label {background-color: #d4ebff;}#sk-container-id-1 input.sk-hidden--visually {border: 0;clip: rect(1px 1px 1px 1px);clip: rect(1px, 1px, 1px, 1px);height: 1px;margin: -1px;overflow: hidden;padding: 0;position: absolute;width: 1px;}#sk-container-id-1 div.sk-estimator {font-family: monospace;background-color: #f0f8ff;border: 1px dotted black;border-radius: 0.25em;box-sizing: border-box;margin-bottom: 0.5em;}#sk-container-id-1 div.sk-estimator:hover {background-color: #d4ebff;}#sk-container-id-1 div.sk-parallel-item::after {content: \"\";width: 100%;border-bottom: 1px solid gray;flex-grow: 1;}#sk-container-id-1 div.sk-label:hover label.sk-toggleable__label {background-color: #d4ebff;}#sk-container-id-1 div.sk-serial::before {content: \"\";position: absolute;border-left: 1px solid gray;box-sizing: border-box;top: 0;bottom: 0;left: 50%;z-index: 0;}#sk-container-id-1 div.sk-serial {display: flex;flex-direction: column;align-items: center;background-color: white;padding-right: 0.2em;padding-left: 0.2em;position: relative;}#sk-container-id-1 div.sk-item {position: relative;z-index: 1;}#sk-container-id-1 div.sk-parallel {display: flex;align-items: stretch;justify-content: center;background-color: white;position: relative;}#sk-container-id-1 div.sk-item::before, #sk-container-id-1 div.sk-parallel-item::before {content: \"\";position: absolute;border-left: 1px solid gray;box-sizing: border-box;top: 0;bottom: 0;left: 50%;z-index: -1;}#sk-container-id-1 div.sk-parallel-item {display: flex;flex-direction: column;z-index: 1;position: relative;background-color: white;}#sk-container-id-1 div.sk-parallel-item:first-child::after {align-self: flex-end;width: 50%;}#sk-container-id-1 div.sk-parallel-item:last-child::after {align-self: flex-start;width: 50%;}#sk-container-id-1 div.sk-parallel-item:only-child::after {width: 0;}#sk-container-id-1 div.sk-dashed-wrapped {border: 1px dashed gray;margin: 0 0.4em 0.5em 0.4em;box-sizing: border-box;padding-bottom: 0.4em;background-color: white;}#sk-container-id-1 div.sk-label label {font-family: monospace;font-weight: bold;display: inline-block;line-height: 1.2em;}#sk-container-id-1 div.sk-label-container {text-align: center;}#sk-container-id-1 div.sk-container {/* jupyter's `normalize.less` sets `[hidden] { display: none; }` but bootstrap.min.css set `[hidden] { display: none !important; }` so we also need the `!important` here to be able to override the default hidden behavior on the sphinx rendered scikit-learn.org. See: https://github.com/scikit-learn/scikit-learn/issues/21755 */display: inline-block !important;position: relative;}#sk-container-id-1 div.sk-text-repr-fallback {display: none;}</style><div id=\"sk-container-id-1\" class=\"sk-top-container\"><div class=\"sk-text-repr-fallback\"><pre>GridSearchCV(cv=5, estimator=DecisionTreeClassifier(random_state=42), n_jobs=-1,\n",
              "             param_grid={&#x27;criterion&#x27;: [&#x27;gini&#x27;, &#x27;entropy&#x27;],\n",
              "                         &#x27;max_depth&#x27;: [3, 5, 10, None],\n",
              "                         &#x27;max_features&#x27;: [None, &#x27;sqrt&#x27;, &#x27;log2&#x27;],\n",
              "                         &#x27;min_samples_leaf&#x27;: [1, 5, 10],\n",
              "                         &#x27;min_samples_split&#x27;: [2, 10, 20]},\n",
              "             scoring=&#x27;accuracy&#x27;, verbose=1)</pre><b>In a Jupyter environment, please rerun this cell to show the HTML representation or trust the notebook. <br />On GitHub, the HTML representation is unable to render, please try loading this page with nbviewer.org.</b></div><div class=\"sk-container\" hidden><div class=\"sk-item sk-dashed-wrapped\"><div class=\"sk-label-container\"><div class=\"sk-label sk-toggleable\"><input class=\"sk-toggleable__control sk-hidden--visually\" id=\"sk-estimator-id-1\" type=\"checkbox\" ><label for=\"sk-estimator-id-1\" class=\"sk-toggleable__label sk-toggleable__label-arrow\">GridSearchCV</label><div class=\"sk-toggleable__content\"><pre>GridSearchCV(cv=5, estimator=DecisionTreeClassifier(random_state=42), n_jobs=-1,\n",
              "             param_grid={&#x27;criterion&#x27;: [&#x27;gini&#x27;, &#x27;entropy&#x27;],\n",
              "                         &#x27;max_depth&#x27;: [3, 5, 10, None],\n",
              "                         &#x27;max_features&#x27;: [None, &#x27;sqrt&#x27;, &#x27;log2&#x27;],\n",
              "                         &#x27;min_samples_leaf&#x27;: [1, 5, 10],\n",
              "                         &#x27;min_samples_split&#x27;: [2, 10, 20]},\n",
              "             scoring=&#x27;accuracy&#x27;, verbose=1)</pre></div></div></div><div class=\"sk-parallel\"><div class=\"sk-parallel-item\"><div class=\"sk-item\"><div class=\"sk-label-container\"><div class=\"sk-label sk-toggleable\"><input class=\"sk-toggleable__control sk-hidden--visually\" id=\"sk-estimator-id-2\" type=\"checkbox\" ><label for=\"sk-estimator-id-2\" class=\"sk-toggleable__label sk-toggleable__label-arrow\">estimator: DecisionTreeClassifier</label><div class=\"sk-toggleable__content\"><pre>DecisionTreeClassifier(random_state=42)</pre></div></div></div><div class=\"sk-serial\"><div class=\"sk-item\"><div class=\"sk-estimator sk-toggleable\"><input class=\"sk-toggleable__control sk-hidden--visually\" id=\"sk-estimator-id-3\" type=\"checkbox\" ><label for=\"sk-estimator-id-3\" class=\"sk-toggleable__label sk-toggleable__label-arrow\">DecisionTreeClassifier</label><div class=\"sk-toggleable__content\"><pre>DecisionTreeClassifier(random_state=42)</pre></div></div></div></div></div></div></div></div></div></div>"
            ],
            "text/plain": [
              "GridSearchCV(cv=5, estimator=DecisionTreeClassifier(random_state=42), n_jobs=-1,\n",
              "             param_grid={'criterion': ['gini', 'entropy'],\n",
              "                         'max_depth': [3, 5, 10, None],\n",
              "                         'max_features': [None, 'sqrt', 'log2'],\n",
              "                         'min_samples_leaf': [1, 5, 10],\n",
              "                         'min_samples_split': [2, 10, 20]},\n",
              "             scoring='accuracy', verbose=1)"
            ]
          },
          "execution_count": 30,
          "metadata": {},
          "output_type": "execute_result"
        }
      ],
      "source": [
        "# Fit the model with grid search\n",
        "grid_search.fit(X_train, y_train)\n"
      ]
    },
    {
      "cell_type": "code",
      "execution_count": null,
      "metadata": {
        "id": "3bMs02DR4kHF",
        "outputId": "c6b33e8b-0761-481d-f280-5196d57aa514"
      },
      "outputs": [
        {
          "name": "stdout",
          "output_type": "stream",
          "text": [
            "Best Parameters: {'criterion': 'gini', 'max_depth': 5, 'max_features': None, 'min_samples_leaf': 10, 'min_samples_split': 2}\n"
          ]
        }
      ],
      "source": [
        "# Best parameters from GridSearchCV\n",
        "best_params = grid_search.best_params_\n",
        "print(f'Best Parameters: {best_params}')"
      ]
    },
    {
      "cell_type": "code",
      "execution_count": null,
      "metadata": {
        "id": "9b2m9PDa4kHG"
      },
      "outputs": [],
      "source": [
        "# Best estimator\n",
        "best_model = grid_search.best_estimator_\n",
        "\n",
        "# Make predictions with the best model\n",
        "y_pred = best_model.predict(X_test)"
      ]
    },
    {
      "cell_type": "code",
      "execution_count": null,
      "metadata": {
        "id": "TVXA6POH4kHG"
      },
      "outputs": [],
      "source": [
        "# Evaluate the model\n",
        "accuracy = accuracy_score(y_test, y_pred)\n",
        "precision = precision_score(y_test, y_pred, average='weighted')\n",
        "recall = recall_score(y_test, y_pred, average='weighted')\n",
        "f1 = f1_score(y_test, y_pred, average='weighted')"
      ]
    },
    {
      "cell_type": "code",
      "execution_count": null,
      "metadata": {
        "id": "gbv08J944kHH",
        "outputId": "f60fe4ad-46be-4e10-95bb-8a2170631197"
      },
      "outputs": [
        {
          "name": "stdout",
          "output_type": "stream",
          "text": [
            "\n",
            "Decision Tree (after tuning) Results:\n",
            "Accuracy: 0.42\n",
            "Precision: 0.47\n",
            "Recall: 0.42\n",
            "F1 Score: 0.40\n"
          ]
        },
        {
          "data": {
            "image/png": "[encoded data removed]",
            "text/plain": [
              "<Figure size 640x480 with 2 Axes>"
            ]
          },
          "metadata": {},
          "output_type": "display_data"
        }
      ],
      "source": [
        "# Print evaluation metrics\n",
        "print(f'\\nDecision Tree (after tuning) Results:')\n",
        "print(f'Accuracy: {accuracy:.2f}')\n",
        "print(f'Precision: {precision:.2f}')\n",
        "print(f'Recall: {recall:.2f}')\n",
        "print(f'F1 Score: {f1:.2f}')\n",
        "\n",
        "# Confusion Matrix\n",
        "cm = confusion_matrix(y_test, y_pred)\n",
        "disp = ConfusionMatrixDisplay(confusion_matrix=cm, display_labels=label_encoder.classes_)\n",
        "disp.plot(cmap=plt.cm.Blues, values_format='d')\n",
        "plt.title('Confusion Matrix for Decision Tree (Tuned)')\n",
        "plt.show()"
      ]
    },
    {
      "cell_type": "code",
      "execution_count": null,
      "metadata": {
        "id": "HvGUOu2J4kHH",
        "outputId": "7ede527c-21b0-4729-99f3-98ac9afad6af"
      },
      "outputs": [
        {
          "name": "stdout",
          "output_type": "stream",
          "text": [
            "Fitting 5 folds for each of 243 candidates, totalling 1215 fits\n",
            "Best Parameters for Random Forest: {'max_depth': 10, 'max_features': 'sqrt', 'min_samples_leaf': 1, 'min_samples_split': 10, 'n_estimators': 100}\n",
            "Random Forest Accuracy: 0.43\n",
            "Random Forest Precision: 0.41\n",
            "Random Forest Recall: 0.43\n",
            "Random Forest F1 Score: 0.40\n"
          ]
        },
        {
          "data": {
            "image/png": "[encoded data removed]",
            "text/plain": [
              "<Figure size 640x480 with 2 Axes>"
            ]
          },
          "metadata": {},
          "output_type": "display_data"
        }
      ],
      "source": [
        "from sklearn.ensemble import RandomForestClassifier\n",
        "\n",
        "# Initialize Random Forest Classifier\n",
        "random_forest = RandomForestClassifier(random_state=42)\n",
        "\n",
        "# Define the parameter grid\n",
        "param_grid_rf = {\n",
        "    'n_estimators': [50, 100, 200],          # Number of trees in the forest\n",
        "    'max_depth': [None, 10, 20],             # Maximum depth of each tree\n",
        "    'min_samples_split': [2, 10, 20],        # Minimum samples required to split a node\n",
        "    'min_samples_leaf': [1, 5, 10],          # Minimum number of samples in a leaf\n",
        "    'max_features': ['sqrt', 'log2', None]   # Number of features to consider for the best split\n",
        "}\n",
        "\n",
        "# Perform Grid Search for Random Forest\n",
        "grid_search_rf = GridSearchCV(estimator=random_forest, param_grid=param_grid_rf,\n",
        "                              scoring='accuracy', cv=5, n_jobs=-1, verbose=1)\n",
        "\n",
        "# Fit the model\n",
        "grid_search_rf.fit(X_train, y_train)\n",
        "\n",
        "# Best parameters for Random Forest\n",
        "best_params_rf = grid_search_rf.best_params_\n",
        "print(f'Best Parameters for Random Forest: {best_params_rf}')\n",
        "\n",
        "# Use the best model to predict on test data\n",
        "best_rf_model = grid_search_rf.best_estimator_\n",
        "y_pred_rf = best_rf_model.predict(X_test)\n",
        "\n",
        "# Evaluate Random Forest model\n",
        "accuracy_rf = accuracy_score(y_test, y_pred_rf)\n",
        "precision_rf = precision_score(y_test, y_pred_rf, average='weighted')\n",
        "recall_rf = recall_score(y_test, y_pred_rf, average='weighted')\n",
        "f1_rf = f1_score(y_test, y_pred_rf, average='weighted')\n",
        "\n",
        "# Print evaluation metrics\n",
        "print(f'Random Forest Accuracy: {accuracy_rf:.2f}')\n",
        "print(f'Random Forest Precision: {precision_rf:.2f}')\n",
        "print(f'Random Forest Recall: {recall_rf:.2f}')\n",
        "print(f'Random Forest F1 Score: {f1_rf:.2f}')\n",
        "\n",
        "# Confusion Matrix\n",
        "cm_rf = confusion_matrix(y_test, y_pred_rf)\n",
        "disp_rf = ConfusionMatrixDisplay(confusion_matrix=cm_rf, display_labels=label_encoder.classes_)\n",
        "disp_rf.plot(cmap=plt.cm.Blues, values_format='d')\n",
        "plt.title('Confusion Matrix for Random Forest')\n",
        "plt.show()\n"
      ]
    },
    {
      "cell_type": "code",
      "execution_count": null,
      "metadata": {
        "id": "7Rm2_eta4kHI",
        "outputId": "744fc59e-a8cc-4670-9c00-43f87d3e8d83"
      },
      "outputs": [
        {
          "name": "stdout",
          "output_type": "stream",
          "text": [
            "XGBoost Accuracy: 0.41\n"
          ]
        }
      ],
      "source": [
        "from xgboost import XGBClassifier\n",
        "xgb_model = XGBClassifier(random_state=42)\n",
        "\n",
        "# Fit XGBoost\n",
        "xgb_model.fit(X_train, y_train)\n",
        "\n",
        "# Predict and evaluate\n",
        "y_pred_xgb = xgb_model.predict(X_test)\n",
        "accuracy_xgb = accuracy_score(y_test, y_pred_xgb)\n",
        "print(f'XGBoost Accuracy: {accuracy_xgb:.2f}')\n"
      ]
    },
    {
      "cell_type": "code",
      "execution_count": null,
      "metadata": {
        "id": "pIG1Pxcc4kHJ",
        "outputId": "792a5647-f440-4ef8-cf30-91ac07b4c600"
      },
      "outputs": [
        {
          "name": "stderr",
          "output_type": "stream",
          "text": [
            "C:\\Users\\OMOLP124\\AppData\\Local\\Packages\\PythonSoftwareFoundation.Python.3.11_qbz5n2kfra8p0\\LocalCache\\local-packages\\Python311\\site-packages\\sklearn\\linear_model\\_logistic.py:469: ConvergenceWarning: lbfgs failed to converge (status=1):\n",
            "STOP: TOTAL NO. of ITERATIONS REACHED LIMIT.\n",
            "\n",
            "Increase the number of iterations (max_iter) or scale the data as shown in:\n",
            "    https://scikit-learn.org/stable/modules/preprocessing.html\n",
            "Please also refer to the documentation for alternative solver options:\n",
            "    https://scikit-learn.org/stable/modules/linear_model.html#logistic-regression\n",
            "  n_iter_i = _check_optimize_result(\n",
            "C:\\Users\\OMOLP124\\AppData\\Local\\Packages\\PythonSoftwareFoundation.Python.3.11_qbz5n2kfra8p0\\LocalCache\\local-packages\\Python311\\site-packages\\sklearn\\linear_model\\_logistic.py:469: ConvergenceWarning: lbfgs failed to converge (status=1):\n",
            "STOP: TOTAL NO. of ITERATIONS REACHED LIMIT.\n",
            "\n",
            "Increase the number of iterations (max_iter) or scale the data as shown in:\n",
            "    https://scikit-learn.org/stable/modules/preprocessing.html\n",
            "Please also refer to the documentation for alternative solver options:\n",
            "    https://scikit-learn.org/stable/modules/linear_model.html#logistic-regression\n",
            "  n_iter_i = _check_optimize_result(\n",
            "C:\\Users\\OMOLP124\\AppData\\Local\\Packages\\PythonSoftwareFoundation.Python.3.11_qbz5n2kfra8p0\\LocalCache\\local-packages\\Python311\\site-packages\\sklearn\\linear_model\\_logistic.py:469: ConvergenceWarning: lbfgs failed to converge (status=1):\n",
            "STOP: TOTAL NO. of ITERATIONS REACHED LIMIT.\n",
            "\n",
            "Increase the number of iterations (max_iter) or scale the data as shown in:\n",
            "    https://scikit-learn.org/stable/modules/preprocessing.html\n",
            "Please also refer to the documentation for alternative solver options:\n",
            "    https://scikit-learn.org/stable/modules/linear_model.html#logistic-regression\n",
            "  n_iter_i = _check_optimize_result(\n",
            "C:\\Users\\OMOLP124\\AppData\\Local\\Packages\\PythonSoftwareFoundation.Python.3.11_qbz5n2kfra8p0\\LocalCache\\local-packages\\Python311\\site-packages\\sklearn\\linear_model\\_logistic.py:469: ConvergenceWarning: lbfgs failed to converge (status=1):\n",
            "STOP: TOTAL NO. of ITERATIONS REACHED LIMIT.\n",
            "\n",
            "Increase the number of iterations (max_iter) or scale the data as shown in:\n",
            "    https://scikit-learn.org/stable/modules/preprocessing.html\n",
            "Please also refer to the documentation for alternative solver options:\n",
            "    https://scikit-learn.org/stable/modules/linear_model.html#logistic-regression\n",
            "  n_iter_i = _check_optimize_result(\n",
            "C:\\Users\\OMOLP124\\AppData\\Local\\Packages\\PythonSoftwareFoundation.Python.3.11_qbz5n2kfra8p0\\LocalCache\\local-packages\\Python311\\site-packages\\sklearn\\linear_model\\_logistic.py:469: ConvergenceWarning: lbfgs failed to converge (status=1):\n",
            "STOP: TOTAL NO. of ITERATIONS REACHED LIMIT.\n",
            "\n",
            "Increase the number of iterations (max_iter) or scale the data as shown in:\n",
            "    https://scikit-learn.org/stable/modules/preprocessing.html\n",
            "Please also refer to the documentation for alternative solver options:\n",
            "    https://scikit-learn.org/stable/modules/linear_model.html#logistic-regression\n",
            "  n_iter_i = _check_optimize_result(\n",
            "C:\\Users\\OMOLP124\\AppData\\Local\\Packages\\PythonSoftwareFoundation.Python.3.11_qbz5n2kfra8p0\\LocalCache\\local-packages\\Python311\\site-packages\\sklearn\\linear_model\\_logistic.py:469: ConvergenceWarning: lbfgs failed to converge (status=1):\n",
            "STOP: TOTAL NO. of ITERATIONS REACHED LIMIT.\n",
            "\n",
            "Increase the number of iterations (max_iter) or scale the data as shown in:\n",
            "    https://scikit-learn.org/stable/modules/preprocessing.html\n",
            "Please also refer to the documentation for alternative solver options:\n",
            "    https://scikit-learn.org/stable/modules/linear_model.html#logistic-regression\n",
            "  n_iter_i = _check_optimize_result(\n"
          ]
        },
        {
          "name": "stdout",
          "output_type": "stream",
          "text": [
            "Stacking Model Accuracy: 0.44\n"
          ]
        },
        {
          "name": "stderr",
          "output_type": "stream",
          "text": [
            "C:\\Users\\OMOLP124\\AppData\\Local\\Packages\\PythonSoftwareFoundation.Python.3.11_qbz5n2kfra8p0\\LocalCache\\local-packages\\Python311\\site-packages\\sklearn\\linear_model\\_logistic.py:469: ConvergenceWarning: lbfgs failed to converge (status=1):\n",
            "STOP: TOTAL NO. of ITERATIONS REACHED LIMIT.\n",
            "\n",
            "Increase the number of iterations (max_iter) or scale the data as shown in:\n",
            "    https://scikit-learn.org/stable/modules/preprocessing.html\n",
            "Please also refer to the documentation for alternative solver options:\n",
            "    https://scikit-learn.org/stable/modules/linear_model.html#logistic-regression\n",
            "  n_iter_i = _check_optimize_result(\n"
          ]
        }
      ],
      "source": [
        "from sklearn.ensemble import StackingClassifier\n",
        "from sklearn.linear_model import LogisticRegression\n",
        "from sklearn.svm import SVC\n",
        "from sklearn.ensemble import RandomForestClassifier\n",
        "\n",
        "# Define base models\n",
        "base_models = [\n",
        "    ('lr', LogisticRegression(max_iter=1000)),\n",
        "    ('rf', RandomForestClassifier()),\n",
        "    ('svm', SVC())\n",
        "]\n",
        "\n",
        "# Define meta model\n",
        "meta_model = LogisticRegression()\n",
        "\n",
        "# Stacking Classifier\n",
        "stack_clf = StackingClassifier(estimators=base_models, final_estimator=meta_model, cv=5)\n",
        "stack_clf.fit(X_train, y_train)\n",
        "\n",
        "# Predict and evaluate\n",
        "y_pred_stack = stack_clf.predict(X_test)\n",
        "accuracy_stack = accuracy_score(y_test, y_pred_stack)\n",
        "print(f'Stacking Model Accuracy: {accuracy_stack:.2f}')\n"
      ]
    },
    {
      "cell_type": "code",
      "execution_count": null,
      "metadata": {
        "id": "gqPv-bxF4kHJ",
        "outputId": "48a8b82d-3ac5-4d0d-9174-da89cbc79392"
      },
      "outputs": [
        {
          "name": "stdout",
          "output_type": "stream",
          "text": [
            "Fitting 5 folds for each of 243 candidates, totalling 1215 fits\n",
            "Best Parameters for Random Forest: {'max_depth': None, 'max_features': 'sqrt', 'min_samples_leaf': 1, 'min_samples_split': 10, 'n_estimators': 200}\n",
            "Random Forest Accuracy: 0.67\n",
            "Random Forest Precision: 0.80\n",
            "Random Forest Recall: 0.67\n",
            "Random Forest F1 Score: 0.66\n"
          ]
        },
        {
          "data": {
            "image/png": "[encoded data removed]",
            "text/plain": [
              "<Figure size 640x480 with 2 Axes>"
            ]
          },
          "metadata": {},
          "output_type": "display_data"
        }
      ],
      "source": [
        "import pandas as pd\n",
        "from sklearn.model_selection import train_test_split, GridSearchCV\n",
        "from sklearn.ensemble import RandomForestClassifier\n",
        "from sklearn.metrics import accuracy_score, precision_score, recall_score, f1_score, confusion_matrix, ConfusionMatrixDisplay\n",
        "import matplotlib.pyplot as plt\n",
        "\n",
        "df= pd.read_csv(\"C:\\\\Users\\\\OMOPC58\\\\Downloads\\\\heart_rate_dataset_bipolar_disorder_patients.csv\")\n",
        "df = df.rename(columns={\"Class label\": \"target\"})\n",
        "# Encoding categorical variables\n",
        "df = pd.get_dummies(df, columns=['Gender'], drop_first=True)\n",
        "\n",
        "# Creating interaction features\n",
        "df['Age_HeartRate'] = df['Age'] * df['Heart Rate']\n",
        "\n",
        "# Defining features and target\n",
        "X = df[['Age', 'Heart Rate', 'Age_HeartRate', 'Gender_Male']]\n",
        "y = df['target']\n",
        "\n",
        "# Splitting the data\n",
        "X_train, X_test, y_train, y_test = train_test_split(X, y, test_size=0.0478, random_state=42)\n",
        "\n",
        "# Initialize Random Forest Classifier\n",
        "random_forest = RandomForestClassifier(random_state=42)\n",
        "\n",
        "# Define the parameter grid\n",
        "param_grid_rf = {\n",
        "    'n_estimators': [50, 100, 200],\n",
        "    'max_depth': [None, 10, 20],\n",
        "    'min_samples_split': [2, 10, 20],\n",
        "    'min_samples_leaf': [1, 5, 10],\n",
        "    'max_features': ['sqrt', 'log2', None]\n",
        "}\n",
        "\n",
        "# Perform Grid Search for Random Forest\n",
        "grid_search_rf = GridSearchCV(estimator=random_forest, param_grid=param_grid_rf,\n",
        "                              scoring='accuracy', cv=5, n_jobs=1, verbose=1)\n",
        "\n",
        "# Fit the model\n",
        "grid_search_rf.fit(X_train, y_train)\n",
        "\n",
        "# Best parameters for Random Forest\n",
        "best_params_rf = grid_search_rf.best_params_\n",
        "print(f'Best Parameters for Random Forest: {best_params_rf}')\n",
        "\n",
        "# Use the best model to predict on test data\n",
        "best_rf_model = grid_search_rf.best_estimator_\n",
        "y_pred_rf = best_rf_model.predict(X_test)\n",
        "\n",
        "# Evaluate Random Forest model\n",
        "accuracy_rf = accuracy_score(y_test, y_pred_rf)\n",
        "precision_rf = precision_score(y_test, y_pred_rf, average='weighted')\n",
        "recall_rf = recall_score(y_test, y_pred_rf, average='weighted')\n",
        "f1_rf = f1_score(y_test, y_pred_rf, average='weighted')\n",
        "\n",
        "# Print evaluation metrics\n",
        "print(f'Random Forest Accuracy: {accuracy_rf:.2f}')\n",
        "print(f'Random Forest Precision: {precision_rf:.2f}')\n",
        "print(f'Random Forest Recall: {recall_rf:.2f}')\n",
        "print(f'Random Forest F1 Score: {f1_rf:.2f}')\n",
        "\n",
        "# Confusion Matrix\n",
        "cm_rf = confusion_matrix(y_test, y_pred_rf)\n",
        "disp_rf = ConfusionMatrixDisplay(confusion_matrix=cm_rf, display_labels=grid_search_rf.classes_)\n",
        "disp_rf.plot(cmap=plt.cm.Blues, values_format='d')\n",
        "plt.title('Confusion Matrix for Random Forest')\n",
        "plt.show()\n"
      ]
    },
    {
      "cell_type": "code",
      "execution_count": null,
      "metadata": {
        "id": "bTKLHfBH4kHK"
      },
      "outputs": [],
      "source": []
    },
    {
      "cell_type": "code",
      "execution_count": null,
      "metadata": {
        "id": "cG7XEkOw4kHX",
        "outputId": "db27def3-4ba0-4a5b-e307-4983cd5d6d9f"
      },
      "outputs": [
        {
          "name": "stdout",
          "output_type": "stream",
          "text": [
            "Requirement already satisfied: numpy in c:\\users\\omolp124\\appdata\\local\\packages\\pythonsoftwarefoundation.python.3.11_qbz5n2kfra8p0\\localcache\\local-packages\\python311\\site-packages (1.26.4)Note: you may need to restart the kernel to use updated packages.\n",
            "\n",
            "Collecting numpy\n",
            "  Using cached numpy-2.1.1-cp311-cp311-win_amd64.whl.metadata (59 kB)\n",
            "Requirement already satisfied: scikit-learn in c:\\users\\omolp124\\appdata\\local\\packages\\pythonsoftwarefoundation.python.3.11_qbz5n2kfra8p0\\localcache\\local-packages\\python311\\site-packages (1.5.2)\n",
            "Requirement already satisfied: joblib in c:\\users\\omolp124\\appdata\\local\\packages\\pythonsoftwarefoundation.python.3.11_qbz5n2kfra8p0\\localcache\\local-packages\\python311\\site-packages (1.4.2)\n",
            "Requirement already satisfied: scipy>=1.6.0 in c:\\users\\omolp124\\appdata\\local\\packages\\pythonsoftwarefoundation.python.3.11_qbz5n2kfra8p0\\localcache\\local-packages\\python311\\site-packages (from scikit-learn) (1.14.1)\n",
            "Requirement already satisfied: threadpoolctl>=3.1.0 in c:\\users\\omolp124\\appdata\\local\\packages\\pythonsoftwarefoundation.python.3.11_qbz5n2kfra8p0\\localcache\\local-packages\\python311\\site-packages (from scikit-learn) (3.5.0)\n",
            "Using cached numpy-2.1.1-cp311-cp311-win_amd64.whl (12.9 MB)\n",
            "Installing collected packages: numpy\n",
            "  Attempting uninstall: numpy\n",
            "    Found existing installation: numpy 1.26.4\n",
            "    Uninstalling numpy-1.26.4:\n",
            "      Successfully uninstalled numpy-1.26.4\n",
            "Successfully installed numpy-2.1.1\n"
          ]
        }
      ],
      "source": [
        "pip install --upgrade numpy scikit-learn joblib\n"
      ]
    },
    {
      "cell_type": "code",
      "execution_count": null,
      "metadata": {
        "id": "dXRrNMfr4kHY"
      },
      "outputs": [],
      "source": [
        "df"
      ]
    },
    {
      "cell_type": "code",
      "execution_count": null,
      "metadata": {
        "id": "37pxLFWd4kHY",
        "outputId": "cd17af4a-a3a7-4fe2-e549-98ae8abc9ccd"
      },
      "outputs": [
        {
          "name": "stdout",
          "output_type": "stream",
          "text": [
            "Fitting 5 folds for each of 243 candidates, totalling 1215 fits\n",
            "Best Parameters for Random Forest: {'max_depth': None, 'max_features': None, 'min_samples_leaf': 1, 'min_samples_split': 2, 'n_estimators': 200}\n",
            "Random Forest Accuracy: 0.81\n",
            "Random Forest Precision: 0.82\n",
            "Random Forest Recall: 0.81\n",
            "Random Forest F1 Score: 0.81\n"
          ]
        },
        {
          "data": {
            "image/png": "[encoded data removed]",
            "text/plain": [
              "<Figure size 640x480 with 2 Axes>"
            ]
          },
          "metadata": {},
          "output_type": "display_data"
        }
      ],
      "source": [
        "import pandas as pd\n",
        "from sklearn.model_selection import train_test_split, GridSearchCV\n",
        "from sklearn.ensemble import RandomForestClassifier\n",
        "from sklearn.metrics import accuracy_score, precision_score, recall_score, f1_score, confusion_matrix, ConfusionMatrixDisplay\n",
        "import matplotlib.pyplot as plt\n",
        "\n",
        "df= pd.read_csv(\"C:\\\\Users\\\\OMOPC58\\\\Downloads\\\\dataaugmented.csv\")\n",
        "df = df.rename(columns={\"Class label\": \"target\"})\n",
        "# Encoding categorical variables\n",
        "df = pd.get_dummies(df, columns=['Gender'], drop_first=True)\n",
        "\n",
        "# Creating interaction features\n",
        "df['Age_HeartRate'] = df['Age'] * df['Heart Rate']\n",
        "\n",
        "# Defining features and target\n",
        "X = df[['Age', 'Heart Rate', 'Age_HeartRate', 'Gender_Male']]\n",
        "y = df['target']\n",
        "\n",
        "# Splitting the data\n",
        "X_train, X_test, y_train, y_test = train_test_split(X, y, test_size=0.0478, random_state=42)\n",
        "\n",
        "# Initialize Random Forest Classifier\n",
        "random_forest = RandomForestClassifier(random_state=42)\n",
        "\n",
        "# Define the parameter grid\n",
        "param_grid_rf = {\n",
        "    'n_estimators': [50, 100, 200],\n",
        "    'max_depth': [None, 10, 20],\n",
        "    'min_samples_split': [2, 10, 20],\n",
        "    'min_samples_leaf': [1, 5, 10],\n",
        "    'max_features': ['sqrt', 'log2', None]\n",
        "}\n",
        "\n",
        "# Perform Grid Search for Random Forest\n",
        "grid_search_rf = GridSearchCV(estimator=random_forest, param_grid=param_grid_rf,\n",
        "                              scoring='accuracy', cv=5, n_jobs=1, verbose=1)\n",
        "\n",
        "# Fit the model\n",
        "grid_search_rf.fit(X_train, y_train)\n",
        "\n",
        "# Best parameters for Random Forest\n",
        "best_params_rf = grid_search_rf.best_params_\n",
        "print(f'Best Parameters for Random Forest: {best_params_rf}')\n",
        "\n",
        "# Use the best model to predict on test data\n",
        "best_rf_model = grid_search_rf.best_estimator_\n",
        "y_pred_rf = best_rf_model.predict(X_test)\n",
        "\n",
        "# Evaluate Random Forest model\n",
        "accuracy_rf = accuracy_score(y_test, y_pred_rf)\n",
        "precision_rf = precision_score(y_test, y_pred_rf, average='weighted')\n",
        "recall_rf = recall_score(y_test, y_pred_rf, average='weighted')\n",
        "f1_rf = f1_score(y_test, y_pred_rf, average='weighted')\n",
        "\n",
        "# Print evaluation metrics\n",
        "print(f'Random Forest Accuracy: {accuracy_rf:.2f}')\n",
        "print(f'Random Forest Precision: {precision_rf:.2f}')\n",
        "print(f'Random Forest Recall: {recall_rf:.2f}')\n",
        "print(f'Random Forest F1 Score: {f1_rf:.2f}')\n",
        "\n",
        "# Confusion Matrix\n",
        "cm_rf = confusion_matrix(y_test, y_pred_rf)\n",
        "disp_rf = ConfusionMatrixDisplay(confusion_matrix=cm_rf, display_labels=grid_search_rf.classes_)\n",
        "disp_rf.plot(cmap=plt.cm.Blues, values_format='d')\n",
        "plt.title('Confusion Matrix for Random Forest')\n",
        "plt.show()\n"
      ]
    },
    {
      "cell_type": "code",
      "execution_count": null,
      "metadata": {
        "id": "J7Y_v15B4kHZ",
        "outputId": "a1a093a6-c43c-4bdc-a949-787a1cba7782"
      },
      "outputs": [
        {
          "data": {
            "text/html": [
              "<div>\n",
              "<style scoped>\n",
              "    .dataframe tbody tr th:only-of-type {\n",
              "        vertical-align: middle;\n",
              "    }\n",
              "\n",
              "    .dataframe tbody tr th {\n",
              "        vertical-align: top;\n",
              "    }\n",
              "\n",
              "    .dataframe thead th {\n",
              "        text-align: right;\n",
              "    }\n",
              "</style>\n",
              "<table border=\"1\" class=\"dataframe\">\n",
              "  <thead>\n",
              "    <tr style=\"text-align: right;\">\n",
              "      <th></th>\n",
              "      <th>Age</th>\n",
              "      <th>Heart Rate</th>\n",
              "      <th>target</th>\n",
              "      <th>Gender_Male</th>\n",
              "      <th>Age_HeartRate</th>\n",
              "    </tr>\n",
              "  </thead>\n",
              "  <tbody>\n",
              "    <tr>\n",
              "      <th>0</th>\n",
              "      <td>40</td>\n",
              "      <td>82</td>\n",
              "      <td>Depression</td>\n",
              "      <td>True</td>\n",
              "      <td>3280</td>\n",
              "    </tr>\n",
              "    <tr>\n",
              "      <th>1</th>\n",
              "      <td>38</td>\n",
              "      <td>86</td>\n",
              "      <td>Depression</td>\n",
              "      <td>True</td>\n",
              "      <td>3268</td>\n",
              "    </tr>\n",
              "    <tr>\n",
              "      <th>2</th>\n",
              "      <td>35</td>\n",
              "      <td>82</td>\n",
              "      <td>Depression</td>\n",
              "      <td>True</td>\n",
              "      <td>2870</td>\n",
              "    </tr>\n",
              "    <tr>\n",
              "      <th>3</th>\n",
              "      <td>58</td>\n",
              "      <td>67</td>\n",
              "      <td>Depression</td>\n",
              "      <td>True</td>\n",
              "      <td>3886</td>\n",
              "    </tr>\n",
              "    <tr>\n",
              "      <th>4</th>\n",
              "      <td>45</td>\n",
              "      <td>76</td>\n",
              "      <td>Depression</td>\n",
              "      <td>True</td>\n",
              "      <td>3420</td>\n",
              "    </tr>\n",
              "    <tr>\n",
              "      <th>5</th>\n",
              "      <td>55</td>\n",
              "      <td>87</td>\n",
              "      <td>Depression</td>\n",
              "      <td>False</td>\n",
              "      <td>4785</td>\n",
              "    </tr>\n",
              "    <tr>\n",
              "      <th>6</th>\n",
              "      <td>41</td>\n",
              "      <td>79</td>\n",
              "      <td>Depression</td>\n",
              "      <td>False</td>\n",
              "      <td>3239</td>\n",
              "    </tr>\n",
              "    <tr>\n",
              "      <th>7</th>\n",
              "      <td>45</td>\n",
              "      <td>80</td>\n",
              "      <td>Depression</td>\n",
              "      <td>False</td>\n",
              "      <td>3600</td>\n",
              "    </tr>\n",
              "    <tr>\n",
              "      <th>8</th>\n",
              "      <td>65</td>\n",
              "      <td>72</td>\n",
              "      <td>Depression</td>\n",
              "      <td>True</td>\n",
              "      <td>4680</td>\n",
              "    </tr>\n",
              "    <tr>\n",
              "      <th>9</th>\n",
              "      <td>42</td>\n",
              "      <td>86</td>\n",
              "      <td>Depression</td>\n",
              "      <td>True</td>\n",
              "      <td>3612</td>\n",
              "    </tr>\n",
              "    <tr>\n",
              "      <th>10</th>\n",
              "      <td>42</td>\n",
              "      <td>96</td>\n",
              "      <td>Depression</td>\n",
              "      <td>True</td>\n",
              "      <td>4032</td>\n",
              "    </tr>\n",
              "    <tr>\n",
              "      <th>11</th>\n",
              "      <td>73</td>\n",
              "      <td>78</td>\n",
              "      <td>Depression</td>\n",
              "      <td>True</td>\n",
              "      <td>5694</td>\n",
              "    </tr>\n",
              "    <tr>\n",
              "      <th>12</th>\n",
              "      <td>53</td>\n",
              "      <td>70</td>\n",
              "      <td>Depression</td>\n",
              "      <td>True</td>\n",
              "      <td>3710</td>\n",
              "    </tr>\n",
              "    <tr>\n",
              "      <th>13</th>\n",
              "      <td>36</td>\n",
              "      <td>90</td>\n",
              "      <td>Depression</td>\n",
              "      <td>False</td>\n",
              "      <td>3240</td>\n",
              "    </tr>\n",
              "    <tr>\n",
              "      <th>14</th>\n",
              "      <td>40</td>\n",
              "      <td>90</td>\n",
              "      <td>Depression</td>\n",
              "      <td>True</td>\n",
              "      <td>3600</td>\n",
              "    </tr>\n",
              "    <tr>\n",
              "      <th>15</th>\n",
              "      <td>67</td>\n",
              "      <td>68</td>\n",
              "      <td>Depression</td>\n",
              "      <td>False</td>\n",
              "      <td>4556</td>\n",
              "    </tr>\n",
              "    <tr>\n",
              "      <th>16</th>\n",
              "      <td>45</td>\n",
              "      <td>90</td>\n",
              "      <td>Depression</td>\n",
              "      <td>False</td>\n",
              "      <td>4050</td>\n",
              "    </tr>\n",
              "    <tr>\n",
              "      <th>17</th>\n",
              "      <td>28</td>\n",
              "      <td>82</td>\n",
              "      <td>Depression</td>\n",
              "      <td>False</td>\n",
              "      <td>2296</td>\n",
              "    </tr>\n",
              "    <tr>\n",
              "      <th>18</th>\n",
              "      <td>32</td>\n",
              "      <td>89</td>\n",
              "      <td>Depression</td>\n",
              "      <td>False</td>\n",
              "      <td>2848</td>\n",
              "    </tr>\n",
              "    <tr>\n",
              "      <th>19</th>\n",
              "      <td>36</td>\n",
              "      <td>92</td>\n",
              "      <td>Depression</td>\n",
              "      <td>False</td>\n",
              "      <td>3312</td>\n",
              "    </tr>\n",
              "    <tr>\n",
              "      <th>20</th>\n",
              "      <td>33</td>\n",
              "      <td>72</td>\n",
              "      <td>Depression</td>\n",
              "      <td>False</td>\n",
              "      <td>2376</td>\n",
              "    </tr>\n",
              "    <tr>\n",
              "      <th>21</th>\n",
              "      <td>39</td>\n",
              "      <td>84</td>\n",
              "      <td>Depression</td>\n",
              "      <td>False</td>\n",
              "      <td>3276</td>\n",
              "    </tr>\n",
              "    <tr>\n",
              "      <th>22</th>\n",
              "      <td>42</td>\n",
              "      <td>90</td>\n",
              "      <td>Depression</td>\n",
              "      <td>True</td>\n",
              "      <td>3780</td>\n",
              "    </tr>\n",
              "    <tr>\n",
              "      <th>23</th>\n",
              "      <td>38</td>\n",
              "      <td>86</td>\n",
              "      <td>Depression</td>\n",
              "      <td>True</td>\n",
              "      <td>3268</td>\n",
              "    </tr>\n",
              "    <tr>\n",
              "      <th>24</th>\n",
              "      <td>29</td>\n",
              "      <td>85</td>\n",
              "      <td>Depression</td>\n",
              "      <td>False</td>\n",
              "      <td>2465</td>\n",
              "    </tr>\n",
              "    <tr>\n",
              "      <th>25</th>\n",
              "      <td>57</td>\n",
              "      <td>73</td>\n",
              "      <td>Depression</td>\n",
              "      <td>True</td>\n",
              "      <td>4161</td>\n",
              "    </tr>\n",
              "    <tr>\n",
              "      <th>26</th>\n",
              "      <td>34</td>\n",
              "      <td>88</td>\n",
              "      <td>Depression</td>\n",
              "      <td>False</td>\n",
              "      <td>2992</td>\n",
              "    </tr>\n",
              "    <tr>\n",
              "      <th>27</th>\n",
              "      <td>60</td>\n",
              "      <td>77</td>\n",
              "      <td>Depression</td>\n",
              "      <td>False</td>\n",
              "      <td>4620</td>\n",
              "    </tr>\n",
              "    <tr>\n",
              "      <th>28</th>\n",
              "      <td>49</td>\n",
              "      <td>84</td>\n",
              "      <td>Depression</td>\n",
              "      <td>True</td>\n",
              "      <td>4116</td>\n",
              "    </tr>\n",
              "    <tr>\n",
              "      <th>29</th>\n",
              "      <td>46</td>\n",
              "      <td>82</td>\n",
              "      <td>Depression</td>\n",
              "      <td>False</td>\n",
              "      <td>3772</td>\n",
              "    </tr>\n",
              "    <tr>\n",
              "      <th>30</th>\n",
              "      <td>50</td>\n",
              "      <td>76</td>\n",
              "      <td>Depression</td>\n",
              "      <td>True</td>\n",
              "      <td>3800</td>\n",
              "    </tr>\n",
              "    <tr>\n",
              "      <th>31</th>\n",
              "      <td>65</td>\n",
              "      <td>75</td>\n",
              "      <td>Depression</td>\n",
              "      <td>False</td>\n",
              "      <td>4875</td>\n",
              "    </tr>\n",
              "    <tr>\n",
              "      <th>32</th>\n",
              "      <td>61</td>\n",
              "      <td>71</td>\n",
              "      <td>Depression</td>\n",
              "      <td>True</td>\n",
              "      <td>4331</td>\n",
              "    </tr>\n",
              "    <tr>\n",
              "      <th>33</th>\n",
              "      <td>44</td>\n",
              "      <td>83</td>\n",
              "      <td>Depression</td>\n",
              "      <td>True</td>\n",
              "      <td>3652</td>\n",
              "    </tr>\n",
              "    <tr>\n",
              "      <th>34</th>\n",
              "      <td>48</td>\n",
              "      <td>90</td>\n",
              "      <td>Depression</td>\n",
              "      <td>False</td>\n",
              "      <td>4320</td>\n",
              "    </tr>\n",
              "    <tr>\n",
              "      <th>35</th>\n",
              "      <td>39</td>\n",
              "      <td>88</td>\n",
              "      <td>Depression</td>\n",
              "      <td>True</td>\n",
              "      <td>3432</td>\n",
              "    </tr>\n",
              "    <tr>\n",
              "      <th>36</th>\n",
              "      <td>52</td>\n",
              "      <td>79</td>\n",
              "      <td>Depression</td>\n",
              "      <td>False</td>\n",
              "      <td>4108</td>\n",
              "    </tr>\n",
              "    <tr>\n",
              "      <th>37</th>\n",
              "      <td>63</td>\n",
              "      <td>80</td>\n",
              "      <td>Depression</td>\n",
              "      <td>False</td>\n",
              "      <td>5040</td>\n",
              "    </tr>\n",
              "    <tr>\n",
              "      <th>38</th>\n",
              "      <td>30</td>\n",
              "      <td>85</td>\n",
              "      <td>Depression</td>\n",
              "      <td>True</td>\n",
              "      <td>2550</td>\n",
              "    </tr>\n",
              "    <tr>\n",
              "      <th>39</th>\n",
              "      <td>55</td>\n",
              "      <td>74</td>\n",
              "      <td>Depression</td>\n",
              "      <td>True</td>\n",
              "      <td>4070</td>\n",
              "    </tr>\n",
              "    <tr>\n",
              "      <th>40</th>\n",
              "      <td>46</td>\n",
              "      <td>78</td>\n",
              "      <td>Depression</td>\n",
              "      <td>False</td>\n",
              "      <td>3588</td>\n",
              "    </tr>\n",
              "    <tr>\n",
              "      <th>41</th>\n",
              "      <td>41</td>\n",
              "      <td>86</td>\n",
              "      <td>Depression</td>\n",
              "      <td>True</td>\n",
              "      <td>3526</td>\n",
              "    </tr>\n",
              "    <tr>\n",
              "      <th>42</th>\n",
              "      <td>37</td>\n",
              "      <td>91</td>\n",
              "      <td>Depression</td>\n",
              "      <td>False</td>\n",
              "      <td>3367</td>\n",
              "    </tr>\n",
              "    <tr>\n",
              "      <th>43</th>\n",
              "      <td>68</td>\n",
              "      <td>69</td>\n",
              "      <td>Depression</td>\n",
              "      <td>True</td>\n",
              "      <td>4692</td>\n",
              "    </tr>\n",
              "    <tr>\n",
              "      <th>44</th>\n",
              "      <td>50</td>\n",
              "      <td>81</td>\n",
              "      <td>Depression</td>\n",
              "      <td>False</td>\n",
              "      <td>4050</td>\n",
              "    </tr>\n",
              "    <tr>\n",
              "      <th>45</th>\n",
              "      <td>59</td>\n",
              "      <td>75</td>\n",
              "      <td>Depression</td>\n",
              "      <td>True</td>\n",
              "      <td>4425</td>\n",
              "    </tr>\n",
              "    <tr>\n",
              "      <th>46</th>\n",
              "      <td>42</td>\n",
              "      <td>87</td>\n",
              "      <td>Depression</td>\n",
              "      <td>False</td>\n",
              "      <td>3654</td>\n",
              "    </tr>\n",
              "    <tr>\n",
              "      <th>47</th>\n",
              "      <td>35</td>\n",
              "      <td>89</td>\n",
              "      <td>Depression</td>\n",
              "      <td>True</td>\n",
              "      <td>3115</td>\n",
              "    </tr>\n",
              "    <tr>\n",
              "      <th>48</th>\n",
              "      <td>47</td>\n",
              "      <td>83</td>\n",
              "      <td>Depression</td>\n",
              "      <td>False</td>\n",
              "      <td>3901</td>\n",
              "    </tr>\n",
              "    <tr>\n",
              "      <th>49</th>\n",
              "      <td>38</td>\n",
              "      <td>90</td>\n",
              "      <td>Depression</td>\n",
              "      <td>True</td>\n",
              "      <td>3420</td>\n",
              "    </tr>\n",
              "  </tbody>\n",
              "</table>\n",
              "</div>"
            ],
            "text/plain": [
              "    Age  Heart Rate      target  Gender_Male  Age_HeartRate\n",
              "0    40          82  Depression         True           3280\n",
              "1    38          86  Depression         True           3268\n",
              "2    35          82  Depression         True           2870\n",
              "3    58          67  Depression         True           3886\n",
              "4    45          76  Depression         True           3420\n",
              "5    55          87  Depression        False           4785\n",
              "6    41          79  Depression        False           3239\n",
              "7    45          80  Depression        False           3600\n",
              "8    65          72  Depression         True           4680\n",
              "9    42          86  Depression         True           3612\n",
              "10   42          96  Depression         True           4032\n",
              "11   73          78  Depression         True           5694\n",
              "12   53          70  Depression         True           3710\n",
              "13   36          90  Depression        False           3240\n",
              "14   40          90  Depression         True           3600\n",
              "15   67          68  Depression        False           4556\n",
              "16   45          90  Depression        False           4050\n",
              "17   28          82  Depression        False           2296\n",
              "18   32          89  Depression        False           2848\n",
              "19   36          92  Depression        False           3312\n",
              "20   33          72  Depression        False           2376\n",
              "21   39          84  Depression        False           3276\n",
              "22   42          90  Depression         True           3780\n",
              "23   38          86  Depression         True           3268\n",
              "24   29          85  Depression        False           2465\n",
              "25   57          73  Depression         True           4161\n",
              "26   34          88  Depression        False           2992\n",
              "27   60          77  Depression        False           4620\n",
              "28   49          84  Depression         True           4116\n",
              "29   46          82  Depression        False           3772\n",
              "30   50          76  Depression         True           3800\n",
              "31   65          75  Depression        False           4875\n",
              "32   61          71  Depression         True           4331\n",
              "33   44          83  Depression         True           3652\n",
              "34   48          90  Depression        False           4320\n",
              "35   39          88  Depression         True           3432\n",
              "36   52          79  Depression        False           4108\n",
              "37   63          80  Depression        False           5040\n",
              "38   30          85  Depression         True           2550\n",
              "39   55          74  Depression         True           4070\n",
              "40   46          78  Depression        False           3588\n",
              "41   41          86  Depression         True           3526\n",
              "42   37          91  Depression        False           3367\n",
              "43   68          69  Depression         True           4692\n",
              "44   50          81  Depression        False           4050\n",
              "45   59          75  Depression         True           4425\n",
              "46   42          87  Depression        False           3654\n",
              "47   35          89  Depression         True           3115\n",
              "48   47          83  Depression        False           3901\n",
              "49   38          90  Depression         True           3420"
            ]
          },
          "execution_count": 5,
          "metadata": {},
          "output_type": "execute_result"
        }
      ],
      "source": [
        "df.head(50)"
      ]
    },
    {
      "cell_type": "code",
      "execution_count": null,
      "metadata": {
        "id": "bP_PqwBE4kHa",
        "outputId": "30579ec5-90a7-4754-d5a3-bfca4b238dfb"
      },
      "outputs": [
        {
          "name": "stdout",
          "output_type": "stream",
          "text": [
            "target\n",
            "Depression    200\n",
            "Hypomania     200\n",
            "Mania         200\n",
            "Euthymia      200\n",
            "Mixed         200\n",
            "Name: count, dtype: int64\n"
          ]
        }
      ],
      "source": [
        "import pandas as pd\n",
        "\n",
        "# Assuming your DataFrame is named 'data' and target variable is 'target'\n",
        "class_counts = df['target'].value_counts()\n",
        "print(class_counts)\n"
      ]
    },
    {
      "cell_type": "code",
      "execution_count": null,
      "metadata": {
        "id": "KC9sHcLD4kHa",
        "outputId": "61173261-008b-4146-8dc1-7034ef5acd40"
      },
      "outputs": [
        {
          "name": "stdout",
          "output_type": "stream",
          "text": [
            "Fitting 5 folds for each of 243 candidates, totalling 1215 fits\n",
            "Best Parameters for Random Forest: {'max_depth': None, 'max_features': None, 'min_samples_leaf': 1, 'min_samples_split': 10, 'n_estimators': 200}\n",
            "Random Forest Accuracy: 0.62\n",
            "Random Forest Precision: 0.54\n",
            "Random Forest Recall: 0.62\n",
            "Random Forest F1 Score: 0.57\n"
          ]
        },
        {
          "name": "stderr",
          "output_type": "stream",
          "text": [
            "C:\\Users\\OMOPC58\\AppData\\Roaming\\Python\\Python312\\site-packages\\sklearn\\metrics\\_classification.py:1531: UndefinedMetricWarning: Precision is ill-defined and being set to 0.0 in labels with no predicted samples. Use `zero_division` parameter to control this behavior.\n",
            "  _warn_prf(average, modifier, f\"{metric.capitalize()} is\", len(result))\n"
          ]
        },
        {
          "data": {
            "image/png": "[encoded data removed]",
            "text/plain": [
              "<Figure size 640x480 with 2 Axes>"
            ]
          },
          "metadata": {},
          "output_type": "display_data"
        }
      ],
      "source": [
        "import pandas as pd\n",
        "from sklearn.model_selection import train_test_split, GridSearchCV\n",
        "from sklearn.ensemble import RandomForestClassifier\n",
        "from sklearn.metrics import accuracy_score, precision_score, recall_score, f1_score, confusion_matrix, ConfusionMatrixDisplay\n",
        "from imblearn.over_sampling import SMOTE\n",
        "from sklearn.preprocessing import StandardScaler\n",
        "import matplotlib.pyplot as plt\n",
        "\n",
        "# Load and preprocess data\n",
        "df = pd.read_csv(\"C:\\\\Users\\\\OMOPC58\\\\Downloads\\\\heart_rate_dataset_bipolar_disorder_patients.csv\")\n",
        "df = df.rename(columns={\"Class label\": \"target\"})\n",
        "df = pd.get_dummies(df, columns=['Gender'], drop_first=True)\n",
        "df['Age_HeartRate'] = df['Age'] * df['Heart Rate']\n",
        "\n",
        "# Define features and target\n",
        "X = df[['Age', 'Heart Rate', 'Age_HeartRate', 'Gender_Male']]\n",
        "y = df['target']\n",
        "\n",
        "# Split the data\n",
        "X_train, X_test, y_train, y_test = train_test_split(X, y, test_size=0.0478, random_state=42)\n",
        "\n",
        "# Apply SMOTE to balance the dataset\n",
        "smote = SMOTE(random_state=42)\n",
        "X_train_smote, y_train_smote = smote.fit_resample(X_train, y_train)\n",
        "\n",
        "# Standardize features\n",
        "scaler = StandardScaler()\n",
        "X_train_scaled = scaler.fit_transform(X_train_smote)\n",
        "X_test_scaled = scaler.transform(X_test)\n",
        "\n",
        "# Initialize Random Forest Classifier\n",
        "random_forest = RandomForestClassifier(random_state=42)\n",
        "\n",
        "# Define the parameter grid\n",
        "param_grid_rf = {\n",
        "    'n_estimators': [50, 100, 200],\n",
        "    'max_depth': [None, 10, 20],\n",
        "    'min_samples_split': [2, 10, 20],\n",
        "    'min_samples_leaf': [1, 5, 10],\n",
        "    'max_features': ['sqrt', 'log2', None]\n",
        "}\n",
        "\n",
        "# Perform Grid Search for Random Forest\n",
        "grid_search_rf = GridSearchCV(estimator=random_forest, param_grid=param_grid_rf,\n",
        "                              scoring='accuracy', cv=5, n_jobs=1, verbose=1)\n",
        "\n",
        "# Fit the model\n",
        "grid_search_rf.fit(X_train_scaled, y_train_smote)\n",
        "\n",
        "# Best parameters for Random Forest\n",
        "best_params_rf = grid_search_rf.best_params_\n",
        "print(f'Best Parameters for Random Forest: {best_params_rf}')\n",
        "\n",
        "# Use the best model to predict on test data\n",
        "best_rf_model = grid_search_rf.best_estimator_\n",
        "y_pred_rf = best_rf_model.predict(X_test_scaled)\n",
        "\n",
        "# Evaluate Random Forest model\n",
        "accuracy_rf = accuracy_score(y_test, y_pred_rf)\n",
        "precision_rf = precision_score(y_test, y_pred_rf, average='weighted')\n",
        "recall_rf = recall_score(y_test, y_pred_rf, average='weighted')\n",
        "f1_rf = f1_score(y_test, y_pred_rf, average='weighted')\n",
        "\n",
        "# Print evaluation metrics\n",
        "print(f'Random Forest Accuracy: {accuracy_rf:.2f}')\n",
        "print(f'Random Forest Precision: {precision_rf:.2f}')\n",
        "print(f'Random Forest Recall: {recall_rf:.2f}')\n",
        "print(f'Random Forest F1 Score: {f1_rf:.2f}')\n",
        "\n",
        "# Confusion Matrix\n",
        "cm_rf = confusion_matrix(y_test, y_pred_rf)\n",
        "disp_rf = ConfusionMatrixDisplay(confusion_matrix=cm_rf, display_labels=grid_search_rf.classes_)\n",
        "disp_rf.plot(cmap=plt.cm.Blues, values_format='d')\n",
        "plt.title('Confusion Matrix for Random Forest with SMOTE')\n",
        "plt.show()\n"
      ]
    },
    {
      "cell_type": "code",
      "execution_count": null,
      "metadata": {
        "id": "bItOKlEp4kHb",
        "outputId": "6f62bbb5-04a5-4d1c-a5a5-27ac116dbb49"
      },
      "outputs": [
        {
          "name": "stdout",
          "output_type": "stream",
          "text": [
            "Defaulting to user installation because normal site-packages is not writeable\n",
            "Collecting imbalanced-learn\n",
            "  Downloading imbalanced_learn-0.12.3-py3-none-any.whl.metadata (8.3 kB)\n",
            "Requirement already satisfied: numpy>=1.17.3 in c:\\users\\omopc58\\appdata\\roaming\\python\\python312\\site-packages (from imbalanced-learn) (1.26.4)\n",
            "Requirement already satisfied: scipy>=1.5.0 in c:\\users\\omopc58\\appdata\\roaming\\python\\python312\\site-packages (from imbalanced-learn) (1.13.0)\n",
            "Requirement already satisfied: scikit-learn>=1.0.2 in c:\\users\\omopc58\\appdata\\roaming\\python\\python312\\site-packages (from imbalanced-learn) (1.5.2)\n",
            "Requirement already satisfied: joblib>=1.1.1 in c:\\users\\omopc58\\appdata\\roaming\\python\\python312\\site-packages (from imbalanced-learn) (1.4.2)\n",
            "Requirement already satisfied: threadpoolctl>=2.0.0 in c:\\users\\omopc58\\appdata\\roaming\\python\\python312\\site-packages (from imbalanced-learn) (3.5.0)\n",
            "Downloading imbalanced_learn-0.12.3-py3-none-any.whl (258 kB)\n",
            "   ---------------------------------------- 0.0/258.3 kB ? eta -:--:--\n",
            "   - -------------------------------------- 10.2/258.3 kB ? eta -:--:--\n",
            "   ------ -------------------------------- 41.0/258.3 kB 487.6 kB/s eta 0:00:01\n",
            "   ---------------------------------- ----- 225.3/258.3 kB 2.0 MB/s eta 0:00:01\n",
            "   ---------------------------------------- 258.3/258.3 kB 2.0 MB/s eta 0:00:00\n",
            "Installing collected packages: imbalanced-learn\n",
            "Successfully installed imbalanced-learn-0.12.3\n"
          ]
        },
        {
          "name": "stderr",
          "output_type": "stream",
          "text": [
            "\n",
            "[notice] A new release of pip is available: 24.0 -> 24.2\n",
            "[notice] To update, run: python.exe -m pip install --upgrade pip\n"
          ]
        }
      ],
      "source": [
        "!pip install imbalanced-learn\n"
      ]
    },
    {
      "cell_type": "code",
      "execution_count": null,
      "metadata": {
        "id": "u9rE665e4kHc",
        "outputId": "ac2efe49-db8e-4be2-f7cf-1602fa6ffe01"
      },
      "outputs": [
        {
          "name": "stdout",
          "output_type": "stream",
          "text": [
            "Fitting 5 folds for each of 243 candidates, totalling 1215 fits\n"
          ]
        }
      ],
      "source": [
        "import pandas as pd\n",
        "from sklearn.model_selection import train_test_split, GridSearchCV\n",
        "from sklearn.ensemble import RandomForestClassifier\n",
        "from sklearn.metrics import accuracy_score, precision_score, recall_score, f1_score, confusion_matrix, ConfusionMatrixDisplay\n",
        "from sklearn.preprocessing import StandardScaler, PolynomialFeatures\n",
        "import matplotlib.pyplot as plt\n",
        "\n",
        "# Load and preprocess data\n",
        "df = pd.read_csv(\"C:\\\\Users\\\\OMOPC58\\\\Downloads\\\\heart_rate_dataset_bipolar_disorder_patients.csv\")\n",
        "df = df.rename(columns={\"Class label\": \"target\"})\n",
        "df = pd.get_dummies(df, columns=['Gender'], drop_first=True)\n",
        "\n",
        "# Feature Engineering: Create interaction and polynomial features\n",
        "df['Age_HeartRate'] = df['Age'] * df['Heart Rate']  # Interaction feature\n",
        "df['Age^2'] = df['Age'] ** 2                        # Polynomial feature\n",
        "df['HeartRate^2'] = df['Heart Rate'] ** 2           # Polynomial feature\n",
        "\n",
        "# Define features and target\n",
        "X = df[['Age', 'Heart Rate', 'Age_HeartRate', 'Age^2', 'HeartRate^2', 'Gender_Male']]\n",
        "y = df['target']\n",
        "\n",
        "# Split the data\n",
        "X_train, X_test, y_train, y_test = train_test_split(X, y, test_size=0.0478, random_state=42)\n",
        "\n",
        "# Standardize features\n",
        "scaler = StandardScaler()\n",
        "X_train_scaled = scaler.fit_transform(X_train)\n",
        "X_test_scaled = scaler.transform(X_test)\n",
        "\n",
        "# Initialize Random Forest Classifier\n",
        "random_forest = RandomForestClassifier(random_state=42)\n",
        "\n",
        "# Define the parameter grid\n",
        "param_grid_rf = {\n",
        "    'n_estimators': [50, 100, 200],\n",
        "    'max_depth': [None, 10, 20],\n",
        "    'min_samples_split': [2, 10, 20],\n",
        "    'min_samples_leaf': [1, 5, 10],\n",
        "    'max_features': ['sqrt', 'log2', None]\n",
        "}\n",
        "\n",
        "# Perform Grid Search for Random Forest\n",
        "grid_search_rf = GridSearchCV(estimator=random_forest, param_grid=param_grid_rf,\n",
        "                              scoring='accuracy', cv=5, n_jobs=1, verbose=1)\n",
        "\n",
        "# Fit the model\n",
        "grid_search_rf.fit(X_train_scaled, y_train)\n",
        "\n",
        "# Best parameters for Random Forest\n",
        "best_params_rf = grid_search_rf.best_params_\n",
        "print(f'Best Parameters for Random Forest: {best_params_rf}')\n",
        "\n",
        "# Use the best model to predict on test data\n",
        "best_rf_model = grid_search_rf.best_estimator_\n",
        "y_pred_rf = best_rf_model.predict(X_test_scaled)\n",
        "\n",
        "# Evaluate Random Forest model\n",
        "accuracy_rf = accuracy_score(y_test, y_pred_rf)\n",
        "precision_rf = precision_score(y_test, y_pred_rf, average='weighted')\n",
        "recall_rf = recall_score(y_test, y_pred_rf, average='weighted')\n",
        "f1_rf = f1_score(y_test, y_pred_rf, average='weighted')\n",
        "\n",
        "# Print evaluation metrics\n",
        "print(f'Random Forest Accuracy: {accuracy_rf:.2f}')\n",
        "print(f'Random Forest Precision: {precision_rf:.2f}')\n",
        "print(f'Random Forest Recall: {recall_rf:.2f}')\n",
        "print(f'Random Forest F1 Score: {f1_rf:.2f}')\n",
        "\n",
        "# Confusion Matrix\n",
        "cm_rf = confusion_matrix(y_test, y_pred_rf)\n",
        "disp_rf = ConfusionMatrixDisplay(confusion_matrix=cm_rf, display_labels=grid_search_rf.classes_)\n",
        "disp_rf.plot(cmap=plt.cm.Blues, values_format='d')\n",
        "plt.title('Confusion Matrix for Random Forest with Feature Engineering')\n",
        "plt.show()\n"
      ]
    },
    {
      "cell_type": "code",
      "execution_count": null,
      "metadata": {
        "id": "cjJ0dO614kHe",
        "outputId": "36787bb9-45ad-4fcf-e5c4-a056e1baa742"
      },
      "outputs": [
        {
          "name": "stdout",
          "output_type": "stream",
          "text": [
            "Fitting 5 folds for each of 243 candidates, totalling 1215 fits\n",
            "Best Parameters for Random Forest: {'max_depth': None, 'max_features': 'sqrt', 'min_samples_leaf': 1, 'min_samples_split': 2, 'n_estimators': 200}\n",
            "Random Forest Accuracy: 0.81\n",
            "Random Forest Precision: 0.82\n",
            "Random Forest Recall: 0.81\n",
            "Random Forest F1 Score: 0.81\n"
          ]
        },
        {
          "data": {
            "image/png": "[encoded data removed]",
            "text/plain": [
              "<Figure size 640x480 with 2 Axes>"
            ]
          },
          "metadata": {},
          "output_type": "display_data"
        }
      ],
      "source": [
        "import pandas as pd\n",
        "from sklearn.model_selection import train_test_split, GridSearchCV\n",
        "from sklearn.ensemble import RandomForestClassifier\n",
        "from sklearn.metrics import accuracy_score, precision_score, recall_score, f1_score, confusion_matrix, ConfusionMatrixDisplay\n",
        "from sklearn.preprocessing import StandardScaler, PolynomialFeatures\n",
        "import matplotlib.pyplot as plt\n",
        "\n",
        "# Load and preprocess data\n",
        "df = pd.read_csv(\"C:\\\\Users\\\\OMOPC58\\\\Downloads\\\\dataaugmented.csv\")\n",
        "df = df.rename(columns={\"Class label\": \"target\"})\n",
        "df = pd.get_dummies(df, columns=['Gender'], drop_first=True)\n",
        "\n",
        "# Feature Engineering: Create interaction and polynomial features\n",
        "df['Age_HeartRate'] = df['Age'] * df['Heart Rate']  # Interaction feature\n",
        "df['Age^2'] = df['Age'] ** 2                        # Polynomial feature\n",
        "df['HeartRate^2'] = df['Heart Rate'] ** 2           # Polynomial feature\n",
        "\n",
        "# Define features and target\n",
        "X = df[['Age', 'Heart Rate', 'Age_HeartRate', 'Age^2', 'HeartRate^2', 'Gender_Male']]\n",
        "y = df['target']\n",
        "\n",
        "# Split the data\n",
        "X_train, X_test, y_train, y_test = train_test_split(X, y, test_size=0.0478, random_state=42)\n",
        "\n",
        "# Standardize features\n",
        "scaler = StandardScaler()\n",
        "X_train_scaled = scaler.fit_transform(X_train)\n",
        "X_test_scaled = scaler.transform(X_test)\n",
        "\n",
        "# Initialize Random Forest Classifier\n",
        "random_forest = RandomForestClassifier(random_state=42)\n",
        "\n",
        "# Define the parameter grid\n",
        "param_grid_rf = {\n",
        "    'n_estimators': [50, 100, 200],\n",
        "    'max_depth': [None, 10, 20],\n",
        "    'min_samples_split': [2, 10, 20],\n",
        "    'min_samples_leaf': [1, 5, 10],\n",
        "    'max_features': ['sqrt', 'log2', None]\n",
        "}\n",
        "\n",
        "# Perform Grid Search for Random Forest\n",
        "grid_search_rf = GridSearchCV(estimator=random_forest, param_grid=param_grid_rf,\n",
        "                              scoring='accuracy', cv=5, n_jobs=1, verbose=1)\n",
        "\n",
        "# Fit the model\n",
        "grid_search_rf.fit(X_train_scaled, y_train)\n",
        "\n",
        "# Best parameters for Random Forest\n",
        "best_params_rf = grid_search_rf.best_params_\n",
        "print(f'Best Parameters for Random Forest: {best_params_rf}')\n",
        "\n",
        "# Use the best model to predict on test data\n",
        "best_rf_model = grid_search_rf.best_estimator_\n",
        "y_pred_rf = best_rf_model.predict(X_test_scaled)\n",
        "\n",
        "# Evaluate Random Forest model\n",
        "accuracy_rf = accuracy_score(y_test, y_pred_rf)\n",
        "precision_rf = precision_score(y_test, y_pred_rf, average='weighted')\n",
        "recall_rf = recall_score(y_test, y_pred_rf, average='weighted')\n",
        "f1_rf = f1_score(y_test, y_pred_rf, average='weighted')\n",
        "\n",
        "# Print evaluation metrics\n",
        "print(f'Random Forest Accuracy: {accuracy_rf:.2f}')\n",
        "print(f'Random Forest Precision: {precision_rf:.2f}')\n",
        "print(f'Random Forest Recall: {recall_rf:.2f}')\n",
        "print(f'Random Forest F1 Score: {f1_rf:.2f}')\n",
        "\n",
        "# Confusion Matrix\n",
        "cm_rf = confusion_matrix(y_test, y_pred_rf)\n",
        "disp_rf = ConfusionMatrixDisplay(confusion_matrix=cm_rf, display_labels=grid_search_rf.classes_)\n",
        "disp_rf.plot(cmap=plt.cm.Blues, values_format='d')\n",
        "plt.title('Confusion Matrix for Random Forest with Feature Engineering')\n",
        "plt.show()\n"
      ]
    },
    {
      "cell_type": "code",
      "execution_count": null,
      "metadata": {
        "id": "jUM_myT84kHf"
      },
      "outputs": [],
      "source": []
    }
  ],
  "metadata": {
    "kernelspec": {
      "display_name": "Python 3",
      "language": "python",
      "name": "python3"
    },
    "language_info": {
      "codemirror_mode": {
        "name": "ipython",
        "version": 3
      },
      "file_extension": ".py",
      "mimetype": "text/x-python",
      "name": "python",
      "nbconvert_exporter": "python",
      "pygments_lexer": "ipython3",
      "version": "3.11.3"
    },
    "colab": {
      "provenance": [],
      "include_colab_link": true
    }
  },
  "nbformat": 4,
  "nbformat_minor": 0
}